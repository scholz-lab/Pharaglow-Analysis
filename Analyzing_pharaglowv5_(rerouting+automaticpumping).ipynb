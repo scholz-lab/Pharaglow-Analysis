{
 "cells": [
  {
   "cell_type": "markdown",
   "metadata": {},
   "source": [
    "# Analyzing velocity and pumping with Pharaglow"
   ]
  },
  {
   "cell_type": "markdown",
   "metadata": {},
   "source": [
    "### Importing packages"
   ]
  },
  {
   "cell_type": "code",
   "execution_count": 1,
   "metadata": {},
   "outputs": [],
   "source": [
    "import pandas as pd\n",
    "import os\n",
    "import numpy as np\n",
    "import sympy as sy\n",
    "\n",
    "# plotting\n",
    "import matplotlib.pylab as plt\n",
    "\n",
    "# image processing\n",
    "import skimage\n",
    "from skimage import io\n",
    "from skimage.util import img_as_float\n",
    "from skimage.filters import threshold_li\n",
    "from scipy import ndimage\n",
    "from skimage.morphology import remove_small_objects\n",
    "from skimage.exposure import histogram\n",
    "from pharaglow.util import smooth"
   ]
  },
  {
   "cell_type": "markdown",
   "metadata": {},
   "source": [
    "### Defining function to prepare binary of lawn image"
   ]
  },
  {
   "cell_type": "code",
   "execution_count": 2,
   "metadata": {},
   "outputs": [],
   "source": [
    "def prepLawn(filename):\n",
    "    # outlining lawn and turning into binary - thresholding with li (CHANGE NAME)\n",
    "    image = img_as_float(skimage.io.imread(filename)).astype(np.float64)\n",
    "    thresh = threshold_li(image)\n",
    "    binary = image > thresh\n",
    "    # troubleshooting images with noise around the lawn (optional)\n",
    "    binary = remove_small_objects(binary, min_size = 5000, connectivity = 2) #change min_size \n",
    "    # filling small holes in the lawn\n",
    "    binary = ndimage.binary_fill_holes(binary).astype(int)\n",
    "    return binary"
   ]
  },
  {
   "cell_type": "markdown",
   "metadata": {},
   "source": [
    "### Directing path options and video fps (CHANGE NAMES OR YOUR FILES ARE OVERWRITTEN)"
   ]
  },
  {
   "cell_type": "code",
   "execution_count": 3,
   "metadata": {},
   "outputs": [
    {
     "name": "stdout",
     "output_type": "stream",
     "text": [
      "Is there a lawn? Yes\n",
      "fps: 30\n"
     ]
    }
   ],
   "source": [
    "# CHANGE NAME TO FOLDER OF INTEREST\n",
    "pathname = \"/media/scholz_la/hd2/Nicolina/Pharaglow/Pharaglow_v5/10x_INF100/\"\n",
    "outfile_vs = \"/media/scholz_la/hd2/Nicolina/Nicolina/Saved_cutVelocities/10x_INF100.5_Velocities.csv\"\n",
    "outfile_cutv = \"/media/scholz_la/hd2/Nicolina/Nicolina/Saved_cutVelocities/10x_INF100.5_cutVelocities.csv\"\n",
    "\n",
    "# IS THERE A LAWN?\n",
    "lawn = 'Yes' #or 'No'\n",
    "print('Is there a lawn?', lawn)\n",
    "\n",
    "# FPS\n",
    "frames = 30\n",
    "print('fps:', frames)\n",
    "\n",
    "# CHANGE FIGURE NAMES\n",
    "all_velocities = \"/home/nzjacic/Desktop/Rough_figures/10X_INF100/10x_INF100.5_all_velocities.pdf\"\n",
    "averaged_velocities = \"/home/nzjacic/Desktop/Rough_figures/10x_INF100/10x_INF100.5_combined_averaged_velocities.pdf\"\n",
    "entry_trajectory = \"/home/nzjacic/Desktop/Rough_figures/10X_INF100/10x_INF100.5_entries_trajectories.pdf\""
   ]
  },
  {
   "cell_type": "markdown",
   "metadata": {},
   "source": [
    "### Making a dictionary of lawn images based on experiment ID (NZxxxx)"
   ]
  },
  {
   "cell_type": "code",
   "execution_count": 4,
   "metadata": {},
   "outputs": [
    {
     "name": "stdout",
     "output_type": "stream",
     "text": [
      "20200326_NZ0046_test_results_0.json\n",
      "20200326_NZ0046_test_results_1.json\n",
      "20200326_NZ0046_test_results_3.json\n",
      "20200326_NZ0046_test_results_4.json\n",
      "20200326_NZ0046_test_results_5.json\n",
      "20200326_NZ0046_test_results_6.json\n",
      "20200326_NZ0046_test_results_7.json\n",
      "20200326_NZ0046_test_results_8.json\n",
      "20200326_NZ0046_test_results_9.json\n"
     ]
    }
   ],
   "source": [
    "lawnImages = {}\n",
    "if lawn=='Yes':\n",
    "    for filename in os.listdir(pathname):\n",
    "        if filename.endswith(\".json\"):\n",
    "            # checking file has been imported\n",
    "            print(filename)\n",
    "            # get lawn picture\n",
    "            lawnfile = filename.split('_')[1]\n",
    "            if lawnfile not in lawnImages.keys():\n",
    "                lawnpath = '/media/scholz_la/hd2/Nicolina/Lawns/'\n",
    "                lawnImages[lawnfile] = prepLawn(os.path.join(lawnpath, lawnfile+'_lawn.tiff') or os.path.join(lawnpath, lawnfile+'_lawn.bmp'))"
   ]
  },
  {
   "cell_type": "markdown",
   "metadata": {},
   "source": [
    "### Importing and filtering pharaglow data for \"true\" trajectories and lawn entries"
   ]
  },
  {
   "cell_type": "code",
   "execution_count": 5,
   "metadata": {},
   "outputs": [
    {
     "name": "stdout",
     "output_type": "stream",
     "text": [
      "20200326_NZ0046_test_results_0.json\n"
     ]
    },
    {
     "name": "stderr",
     "output_type": "stream",
     "text": [
      "/home/nzjacic/.conda/envs/pumping/lib/python3.7/site-packages/ipykernel_launcher.py:14: FutureWarning: the 'numpy' keyword is deprecated and will be removed in a future version. Please take steps to stop the use of 'numpy'\n",
      "  \n"
     ]
    },
    {
     "name": "stdout",
     "output_type": "stream",
     "text": [
      "mean(z): 0.5883987109678853\n",
      "t0: 1413\n",
      "t0s: [1413]\n",
      "Accepted\n",
      "20200326_NZ0046_test_results_1.json\n",
      "mean(z): 0.0\n",
      "Rejected\n",
      "20200326_NZ0046_test_results_3.json\n",
      "mean(z): 0.6122868545168703\n",
      "t0: 1446\n",
      "t0s: [1413, 1446]\n",
      "Accepted\n",
      "20200326_NZ0046_test_results_4.json\n",
      "mean(z): 0.26752633490737376\n",
      "t0: 4033\n",
      "t0s: [1413, 1446, 4033]\n",
      "Accepted\n",
      "20200326_NZ0046_test_results_5.json\n",
      "mean(z): 0.1369435042957563\n",
      "t0: 3218\n",
      "t0s: [1413, 1446, 4033, 3218]\n",
      "Accepted\n",
      "20200326_NZ0046_test_results_6.json\n",
      "mean(z): 0.0\n",
      "Rejected\n",
      "20200326_NZ0046_test_results_7.json\n",
      "mean(z): 0.0\n",
      "Rejected\n",
      "20200326_NZ0046_test_results_8.json\n",
      "mean(z): 0.012641815235008104\n",
      "Rejected\n",
      "20200326_NZ0046_test_results_9.json\n",
      "mean(z): 0.6129032258064516\n",
      "t0: 0\n",
      "Rejected\n",
      "CPU times: user 1min 7s, sys: 5.23 s, total: 1min 13s\n",
      "Wall time: 1min 12s\n"
     ]
    }
   ],
   "source": [
    "%%time\n",
    "# lists\n",
    "# velocities = []\n",
    "t0s = []\n",
    "xvalues = []\n",
    "yvalues = []\n",
    "expIds = []\n",
    "insides = []\n",
    "# loop for importing and saving information from a single results folder into lists\n",
    "for filename in os.listdir(pathname):\n",
    "    if filename.endswith(\".json\"):\n",
    "        # checking file has been imported\n",
    "        print(filename)\n",
    "        # getting python to read .json files\n",
    "        data = pd.read_json(os.path.join(pathname, filename), orient='split', numpy=True)\n",
    "        # data extraction if there is a lawn\n",
    "        if lawn == 'Yes':\n",
    "            # extracting useful variables\n",
    "            x = data['x'].values\n",
    "            y = data['y'].values\n",
    "            f = data['frame'].values\n",
    "            z = data['inside'].values\n",
    "            # filter worms out that are mostly in the lawn at all times\n",
    "            print(\"mean(z):\", np.mean(z))\n",
    "            if np.mean(z)<0.1:\n",
    "                print(\"Rejected\")\n",
    "                continue\n",
    "            if np.mean(z)>0.9:\n",
    "                print(\"Rejected\")\n",
    "                continue\n",
    "            # find first point of entry for all worms where t0=/=0 (i.e. where worm is already inside the lawn at \n",
    "            # the beginning of the trajectory)\n",
    "            try:\n",
    "                # t0 = first point where the worm is inside the lawn\n",
    "                t0 = np.where(z==1)[0][0]\n",
    "                print(\"t0:\", t0)\n",
    "                if t0==0:\n",
    "                    print(\"Rejected\")\n",
    "                    continue\n",
    "                t0s.append(t0)\n",
    "                insides.append(z)\n",
    "                xvalues.append(x)\n",
    "                yvalues.append(y)\n",
    "                expIds.append(filename.split('_')[1])\n",
    "            except IndexError:\n",
    "                print('Rejected')\n",
    "                continue\n",
    "            print(\"t0s:\", t0s)\n",
    "            print(\"Accepted\")\n",
    "        # data extraction if it's a no lawn control\n",
    "        else:\n",
    "            # velocity calculations\n",
    "            x = data['x'].values\n",
    "            y = data['y'].values\n",
    "            t = data['frame'].values"
   ]
  },
  {
   "cell_type": "markdown",
   "metadata": {},
   "source": [
    "## Velocity"
   ]
  },
  {
   "cell_type": "code",
   "execution_count": 23,
   "metadata": {},
   "outputs": [
    {
     "name": "stdout",
     "output_type": "stream",
     "text": [
      "checkpoint\n",
      "checkpoint\n",
      "checkpoint\n"
     ]
    },
    {
     "ename": "IndexError",
     "evalue": "list index out of range",
     "output_type": "error",
     "traceback": [
      "\u001b[0;31m---------------------------------------------------------------------------\u001b[0m",
      "\u001b[0;31mIndexError\u001b[0m                                Traceback (most recent call last)",
      "\u001b[0;32m<ipython-input-23-b1c60b9c00ae>\u001b[0m in \u001b[0;36m<module>\u001b[0;34m\u001b[0m\n\u001b[1;32m     19\u001b[0m         \u001b[0mprint\u001b[0m\u001b[0;34m(\u001b[0m\u001b[0;34m'checkpoint'\u001b[0m\u001b[0;34m)\u001b[0m\u001b[0;34m\u001b[0m\u001b[0;34m\u001b[0m\u001b[0m\n\u001b[1;32m     20\u001b[0m \u001b[0;31m#         df = np.diff(f)\u001b[0m\u001b[0;34m\u001b[0m\u001b[0;34m\u001b[0m\u001b[0;34m\u001b[0m\u001b[0m\n\u001b[0;32m---> 21\u001b[0;31m         \u001b[0mt0\u001b[0m \u001b[0;34m=\u001b[0m \u001b[0mt0s\u001b[0m\u001b[0;34m[\u001b[0m\u001b[0mi\u001b[0m\u001b[0;34m]\u001b[0m\u001b[0;34m\u001b[0m\u001b[0;34m\u001b[0m\u001b[0m\n\u001b[0m\u001b[1;32m     22\u001b[0m         \u001b[0;32mtry\u001b[0m\u001b[0;34m:\u001b[0m\u001b[0;34m\u001b[0m\u001b[0;34m\u001b[0m\u001b[0m\n\u001b[1;32m     23\u001b[0m             \u001b[0;32mif\u001b[0m \u001b[0mt0\u001b[0m\u001b[0;34m>\u001b[0m\u001b[0mcut\u001b[0m\u001b[0;34m:\u001b[0m\u001b[0;34m\u001b[0m\u001b[0;34m\u001b[0m\u001b[0m\n",
      "\u001b[0;31mIndexError\u001b[0m: list index out of range"
     ]
    },
    {
     "data": {
      "text/plain": [
       "<Figure size 864x576 with 0 Axes>"
      ]
     },
     "metadata": {},
     "output_type": "display_data"
    }
   ],
   "source": [
    "# defining lists\n",
    "vs = []\n",
    "cutv = []\n",
    "\n",
    "# cut is the number of frames on either side of t0 we want to see\n",
    "cut = 1000\n",
    "\n",
    "# #converting time from frames to seconds\n",
    "# time = np.linspace(0,2*cut/30., 2*cut)\n",
    "df = np.diff(f)\n",
    "print('checkpoint')\n",
    "\n",
    "# with lawn\n",
    "plt.figure(figsize=(12,8))\n",
    "print('checkpoint')\n",
    "\n",
    "for pid in data['particle'].unique():\n",
    "    if lawn == 'Yes':\n",
    "        print('checkpoint')\n",
    "#         df = np.diff(f)\n",
    "        t0 = t0s[pid]\n",
    "        try:\n",
    "            if t0>cut:\n",
    "                print('pid:', pid)\n",
    "                #converting time from frames to seconds\n",
    "                time = np.linspace(0,2*cut/30., 2*cut)\n",
    "                #velocity calculations + conversion from units/frame to microns/s\n",
    "                v = np.sqrt((np.diff(x)**2+np.diff(y)**2))/f*30*2.349\n",
    "                vs.append(v)\n",
    "                #checking length of velocity column (optional)\n",
    "                print('v.iloc:', v.iloc[t0-dt:t0+dt])\n",
    "                #plotting velocity graph\n",
    "                plt.plot(time, v.iloc[t0-cut:t0+cut], 'navy', alpha=0.1)\n",
    "                #saving section of velocity around t0\n",
    "                cutv.append(v.iloc[t0-cut:t0+cut].values)\n",
    "            else:\n",
    "                print('trajectory is too short')\n",
    "        except ValueError:\n",
    "            print('t0-dt or t0+dt exceeds number of frames')\n",
    "            continue      \n",
    "        #STDV and average\n",
    "        plt.plot(time, np.mean(np.array(vcut), axis=0), color='navy')\n",
    "        plt.plot(time, util.smooth(np.mean(np.array(vcut), axis=0), 30), color='r')\n",
    "        #t0 line\n",
    "        plt.axvline(dt/30, color='k', linestyle='--')\n",
    "        #labeling axes and setting limits\n",
    "        plt.ylabel(r\"velocity ($\\mu$m/s)\");\n",
    "        plt.xlabel(\"time (s)\");\n",
    "        plt.ylim(0,150)\n",
    "        # save plot as .pdf\n",
    "        plt.savefig(all_velocities)\n",
    "    \n",
    "    # without lawn\n",
    "    else:\n",
    "        # plotting so that trajectories all begin when t = 0s on graph\n",
    "        plt.plot(time[:-1], v, color = 'b', alpha = 0.3)\n",
    "        plt.ylabel('Velocity (microns/second)')\n",
    "        plt.xlabel('Time (seconds)')\n",
    "        # making sure all graphs are on the same y-scale to be more comparable\n",
    "        plt.ylim(top = 300.0, bottom = 0.0)\n",
    "        # make the trajectories the same length - look at the figure and change \"cut\" value based on data\n",
    "        vn = np.pad(v[:cut], [0, cut-len(v[:cut])], mode='constant', constant_values=np.nan)\n",
    "        cutVelocity.append(vn)\n",
    "        # save plot as .pdf\n",
    "        plt.savefig(all_velocities)"
   ]
  },
  {
   "cell_type": "markdown",
   "metadata": {},
   "source": [
    "### Saving velocity data"
   ]
  },
  {
   "cell_type": "code",
   "execution_count": null,
   "metadata": {},
   "outputs": [],
   "source": [
    "# making velocities and cutVelocities into a data frame\n",
    "features_vs, features_cutv = vs, cutv\n",
    "features_vs, features_cutv = pd.DataFrame(features_vs), pd.DataFrame(features_cutv)\n",
    "print(\"Checking velocity:\", features_vs, \"Checking cut velocities:\", features_cutv)\n",
    "\n",
    "#checking data frame\n",
    "features_vs.info(memory_usage='deep')\n",
    "features_cutv.info(memory_usage='deep')\n",
    "\n",
    "#saving as .csv file\n",
    "features_vs.to_csv(outfile_vs)\n",
    "features_cutv.to_csv(outfile_cutv)"
   ]
  }
 ],
 "metadata": {
  "kernelspec": {
   "display_name": "Python 3",
   "language": "python",
   "name": "python3"
  },
  "language_info": {
   "codemirror_mode": {
    "name": "ipython",
    "version": 3
   },
   "file_extension": ".py",
   "mimetype": "text/x-python",
   "name": "python",
   "nbconvert_exporter": "python",
   "pygments_lexer": "ipython3",
   "version": "3.7.3"
  }
 },
 "nbformat": 4,
 "nbformat_minor": 2
}
