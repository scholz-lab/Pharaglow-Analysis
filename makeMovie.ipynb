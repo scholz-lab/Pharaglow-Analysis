{
 "cells": [
  {
   "cell_type": "markdown",
   "metadata": {},
   "source": [
    "# Visual aid for manual pump counting"
   ]
  },
  {
   "cell_type": "code",
   "execution_count": null,
   "metadata": {},
   "outputs": [],
   "source": [
    "%matplotlib notebook\n",
    "import numpy as np\n",
    "import pandas as pd\n",
    "import os\n",
    "import pickle\n",
    "# image io and analysis\n",
    "import json\n",
    "import pims\n",
    "import trackpy as tp\n",
    "\n",
    "# plotting\n",
    "import matplotlib  as mpl \n",
    "import matplotlib.pyplot as plt \n",
    "\n",
    "#our packages\n",
    "from pharaglow import extract, util\n",
    "from pharaglow.util import smooth\n",
    "from skimage.io import imsave"
   ]
  },
  {
   "cell_type": "markdown",
   "metadata": {},
   "source": [
    "#### Read in pharaglow results file. Modify as needed to read in your data."
   ]
  },
  {
   "cell_type": "code",
   "execution_count": null,
   "metadata": {},
   "outputs": [],
   "source": [
    "dataFolder = \"/media/scholz_la/hd2/Nicolina/Pharaglow/Old_files/Pharaglow_v5/10x_GRU101_RFP_24hr/\"\n",
    "lawns = \"/media/scholz_la/hd2/Nicolina/Lawns\"\n",
    "path = os.path.dirname(dataFolder)\n",
    "for fn in os.listdir(path):\n",
    "    file = os.path.join(path,fn)\n",
    "    if os.path.isfile(file) and 'results_' in fn and fn.endswith('.json'):\n",
    "        print('Reading', file)\n",
    "        particle_index = int(fn.split('.')[0].split('_')[-1])\n",
    "        traj =  pd.read_json(file, orient='split')\n",
    "        movieID = fn.split('_')[1]\n",
    "        try:\n",
    "            lawn = pims.open(os.path.join(lawns, f'{movieID}_lawn.tiff'))[0]\n",
    "        except pims.UnknownFormatError:\n",
    "             lawn = pims.open(os.path.join(lawns, f'{movieID}_lawn.bmp'))[0]\n",
    "\n",
    "        break\n"
   ]
  },
  {
   "cell_type": "markdown",
   "metadata": {},
   "source": [
    "#### make the images all the same shape"
   ]
  },
  {
   "cell_type": "code",
   "execution_count": null,
   "metadata": {},
   "outputs": [],
   "source": [
    "def pad(im, shape, size, reshape = True):\n",
    "    # make image from list\n",
    "    im = np.array(im, dtype = int)\n",
    "    if reshape:\n",
    "        im = im.reshape(-1, shape)\n",
    "    # pad an image to square\n",
    "    sy, sx = im.shape\n",
    "    assert sy<=size, 'Y axis is larger than desired size.'\n",
    "    assert sx <=size, 'X axis is larger than desired size.'\n",
    "    # how much to add around each side\n",
    "    py, px = (size-sy)//2, (size-sx)//2\n",
    "    # add back the possible rounding error\n",
    "    oy, ox = (size-sy)%2, (size-sx)%2\n",
    "    newIm = np.pad(im, [(py, py+oy), (px, px+ox)], mode='constant', constant_values= np.mean(im))\n",
    "    assert newIm.shape ==(size, size), 'Reshaping failed.'\n",
    "    return newIm\n"
   ]
  },
  {
   "cell_type": "code",
   "execution_count": null,
   "metadata": {},
   "outputs": [],
   "source": [
    "ims = np.array([pad(im, shape, 100) for im,shape in zip(traj['image'], traj['shapeX'])])\n",
    "ims = np.array(ims).astype(np.uint8)"
   ]
  },
  {
   "cell_type": "markdown",
   "metadata": {},
   "source": [
    "#### Save worm movie as tiff (can be watched in fiji)"
   ]
  },
  {
   "cell_type": "code",
   "execution_count": null,
   "metadata": {},
   "outputs": [],
   "source": [
    "# save movie to watch in fiji\n",
    "# imsave('test.tiff', ims)"
   ]
  },
  {
   "cell_type": "markdown",
   "metadata": {},
   "source": [
    "#### Extract nose tip and lawn image"
   ]
  },
  {
   "cell_type": "code",
   "execution_count": null,
   "metadata": {},
   "outputs": [],
   "source": [
    "def cropLawn(im, bbox):\n",
    "    pad = 0\n",
    "    ymin, xmin, ymax, xmax  = bbox\n",
    "    sliced = slice(np.max([0, ymin-pad]), ymax+pad), slice(np.max([0, xmin-pad]), xmax+pad)\n",
    "    return im[sliced]\n",
    "# get a small section of lawn around the worm\n",
    "lawnCrop = [pad(cropLawn(lawn, bbox), None, 100, False) for bbox in traj['slice']]\n",
    "# get the worms head coordinate\n",
    "headTip = [[cl[0][0]+bbox[0], cl[0][1]+bbox[1]] for cl,bbox in zip(traj['Centerline'], traj['slice'])] \n",
    "headTip = np.array(headTip)"
   ]
  },
  {
   "cell_type": "markdown",
   "metadata": {},
   "source": [
    "#### Interactive plot for counting pumps"
   ]
  },
  {
   "cell_type": "code",
   "execution_count": null,
   "metadata": {},
   "outputs": [],
   "source": [
    "%matplotlib notebook\n",
    "import ipywidgets as widgets\n",
    "from ipywidgets import interact\n",
    "import numpy as np\n",
    "import matplotlib.pyplot as plt\n",
    "# left side shows the worm as tracked by pharaglow\n",
    "#right pot shows the nose tip (red x) and the whole nose trajectory\n",
    "# s defines how large the view of the lawn is (2*s, in px)\n",
    "# adjust vmin and vmax to increase visibility if neccesary\n",
    "\n",
    "def btn_eventhandler(obj):\n",
    "    print(slider.value+offset)\n",
    "    pumps.append(slider.value+offset)\n",
    "    \n",
    "\n",
    "def update(i):\n",
    "    # this overlays the lawn on top of the left side worm in case its neccesary\n",
    "    #im1.set_data(ims[i]*0.75+lawnCrop[i]*0.5)\n",
    "    im1.set_data(ims[i])\n",
    "    txt.set_text(f'Frame {i+offset}')\n",
    "    dot.set_xdata(headTip[i,1])\n",
    "    dot.set_ydata(headTip[i,0])\n",
    "    ax2.set_xlim(headTip[i,1]-s, headTip[i,1]+s)\n",
    "    ax2.set_ylim(headTip[i,0]-s, headTip[i,0]+s)\n",
    "    fig.canvas.draw_idle()\n",
    "    \n",
    "# frame offset for counting correctly\n",
    "offset = traj['frame'].iloc[0]\n",
    "fig = plt.figure(figsize=(10,5))\n",
    "ax1 = fig.add_subplot(1, 2, 1)\n",
    "ax1.axis('off')\n",
    "ax2 = fig.add_subplot(1, 2, 2)\n",
    "ax2.axis('off')\n",
    "# initialize plots and set styles\n",
    "im1 = ax1.imshow(ims[0], vmin=0, vmax=80)\n",
    "txt = ax1.text(5,10,f'Frame {offset}', color = 'w')\n",
    "im2 = ax2.imshow(lawn, vmin=0, vmax=150)\n",
    "ax2.plot(headTip[::10,1],headTip[::10,0], 'w', alpha =0.5)\n",
    "dot, = ax2.plot(headTip[0,1],headTip[0,0], 'rx')\n",
    "plt.tight_layout()\n",
    "s = 300\n",
    "#interactive plot\n",
    "slider = widgets.IntSlider(value=0, min=0, max=len(ims)-1,step=1, description='Frame',)\n",
    "interact(update, i = slider)\n",
    "# button to save pumps\n",
    "btn = widgets.Button(description='Pump!')\n",
    "btn.on_click(btn_eventhandler)\n",
    "display(btn)\n",
    "pumps = []\n",
    "\n",
    "\n",
    "\n"
   ]
  },
  {
   "cell_type": "code",
   "execution_count": null,
   "metadata": {},
   "outputs": [],
   "source": [
    "pumps"
   ]
  },
  {
   "cell_type": "code",
   "execution_count": null,
   "metadata": {},
   "outputs": [],
   "source": []
  }
 ],
 "metadata": {
  "kernelspec": {
   "display_name": "Python 3",
   "language": "python",
   "name": "python3"
  },
  "language_info": {
   "codemirror_mode": {
    "name": "ipython",
    "version": 3
   },
   "file_extension": ".py",
   "mimetype": "text/x-python",
   "name": "python",
   "nbconvert_exporter": "python",
   "pygments_lexer": "ipython3",
   "version": "3.7.7"
  }
 },
 "nbformat": 4,
 "nbformat_minor": 2
}
