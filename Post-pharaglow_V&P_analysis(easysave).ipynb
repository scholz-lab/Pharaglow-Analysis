{
 "cells": [
  {
   "cell_type": "markdown",
   "metadata": {},
   "source": [
    "# Velocity and pumping diagnostics after PharaGlow analysis"
   ]
  },
  {
   "cell_type": "markdown",
   "metadata": {},
   "source": [
    "## Changing names (user input required)"
   ]
  },
  {
   "cell_type": "markdown",
   "metadata": {},
   "source": [
    "#### Strain directories"
   ]
  },
  {
   "cell_type": "code",
   "execution_count": null,
   "metadata": {},
   "outputs": [],
   "source": [
    "# ADD DIRECTORY OF STRAIN MASTER FOLDER(S)\n",
    "ctrl = \"/media/scholz_la/hd2/Nicolina/Pharaglow/Old_files/Pharaglow_v5/10x_GRU101_RFP_24hr/\"\n",
    "INF100 = \"/media/scholz_la/hd2/Nicolina/Pharaglow/Pharaglow_batch/INF100/\"\n",
    "INF102 = \"/media/scholz_la/soma/Nicolina/INF102/RFP_24h/10x/10x_INF102_analyzed/\"\n",
    "INF103 = \"/media/scholz_la/soma/Nicolina/INF103/RFP_24h/10x/10x_INF103_analyzed/\"\n",
    "INF5 = \"/media/scholz_la/soma/Nicolina/INF5/RFP_24h/10x/10x_INF5_analyzed/\"\n",
    "\n",
    "# FINAL FIGURE NAME AND DIRECTORY (figure name MUST have .pdf at the end) - if not changed then the previous figure\n",
    "# WILL be erased so be careful!\n",
    "avgplot = \"/home/nzjacic/Desktop/10x_diagnostics_average_{}.pdf\"\n",
    "singleplot = \"/home/nzjacic/Desktop/10x_diagnostics_single_{}.pdf\""
   ]
  },
  {
   "cell_type": "markdown",
   "metadata": {},
   "source": [
    "#### Dictionary linking strain names to their folders and graph colors"
   ]
  },
  {
   "cell_type": "code",
   "execution_count": null,
   "metadata": {},
   "outputs": [],
   "source": [
    "# ADD STRAIN NAMES\n",
    "strains = ['Control', 'INF100', 'INF102', 'INF103', 'INF5']\n",
    "\n",
    "# ADD DIRECTORY VARIABLE\n",
    "directories = [ctrl, INF100, INF102, INF103, INF5]\n",
    "\n",
    "# ADD COLORS\n",
    "# if a syntax error comes up it's probably because you forgot to add a comma after the previous strain name\n",
    "colors = {\n",
    "        'INF100':'red',\n",
    "        'Control':'blue',\n",
    "        'INF102' :'green',\n",
    "        'INF103':'orange',\n",
    "        'INF5':'purple'\n",
    "    }"
   ]
  },
  {
   "cell_type": "markdown",
   "metadata": {},
   "source": [
    "#### Variables"
   ]
  },
  {
   "cell_type": "code",
   "execution_count": null,
   "metadata": {},
   "outputs": [],
   "source": [
    "# FPS?\n",
    "fps = 30\n",
    "\n",
    "# HOW MANY MICRONS PER PIXEL?\n",
    "umPerPx = 2.34\n",
    "\n",
    "# HOW LONG BEFORE AND AFTER ENTRY WORM ENTRY TO PLOT (IN FRAMES)\n",
    "tBefore = 70*fps\n",
    "tAfter = 10*fps"
   ]
  },
  {
   "cell_type": "markdown",
   "metadata": {},
   "source": [
    "## Extracting velocity and pumping information"
   ]
  },
  {
   "cell_type": "markdown",
   "metadata": {},
   "source": [
    "### Importing packages"
   ]
  },
  {
   "cell_type": "code",
   "execution_count": null,
   "metadata": {},
   "outputs": [],
   "source": [
    "%matplotlib inline\n",
    "import numpy as np\n",
    "import pandas as pd\n",
    "import os\n",
    "import pickle\n",
    "# image io and analysis\n",
    "import json\n",
    "import pims\n",
    "import trackpy as tp\n",
    "\n",
    "# plotting\n",
    "import matplotlib  as mpl \n",
    "import matplotlib.pyplot as plt \n",
    "\n",
    "#our packages\n",
    "from pharaglow import extract, util\n",
    "from pharaglow.util import smooth"
   ]
  },
  {
   "cell_type": "markdown",
   "metadata": {},
   "source": [
    "### Defining functions and dictionaries"
   ]
  },
  {
   "cell_type": "markdown",
   "metadata": {},
   "source": [
    "#### Defining functions to extract velocity, pumping and kymo"
   ]
  },
  {
   "cell_type": "code",
   "execution_count": null,
   "metadata": {},
   "outputs": [],
   "source": [
    "def getVelocity(traj, umperPx, fps):\n",
    "    return np.sqrt((np.diff(traj['x'])**2+np.diff(traj['y'])**2))/np.diff(traj['frame'])*umperPx*fps\n",
    "\n",
    "def getPumps(pumps, ws = 30, prs = np.linspace(0.5,0.95,50) ):\n",
    "    return extract.bestMatchPeaks(pumps, ws, prs)\n",
    "\n",
    "def getKymo(df, key):\n",
    "    kymo = np.sum([np.array(list(filter(None.__ne__,row))) for row in df[key].values], axis=2)\n",
    "    kymo = np.array([np.interp(np.linspace(0, len(row), 100), np.arange(len(row)), np.array(row)) \\\n",
    "                      for row in kymo])\n",
    "    kymo = extract.alignKymos(kymo).T\n",
    "    return kymo"
   ]
  },
  {
   "cell_type": "markdown",
   "metadata": {},
   "source": [
    "#### Defining how Python reads in Pharaglow and lawn data"
   ]
  },
  {
   "cell_type": "code",
   "execution_count": null,
   "metadata": {},
   "outputs": [],
   "source": [
    "def getVelocity(traj, umperPx, fps):\n",
    "    return np.sqrt((np.diff(traj['x'])**2+np.diff(traj['y'])**2))/np.diff(traj['frame'])*umperPx*fps\n",
    "\n",
    "def getPumps(pumps, ws = 30, prs = np.linspace(0.5,0.95,50) ):\n",
    "    return extract.bestMatchPeaks(pumps, ws, prs)\n",
    "\n",
    "def getKymo(df, key):\n",
    "    kymo = np.sum([np.array(list(filter(None.__ne__,row))) for row in df[key].values], axis=2)\n",
    "    kymo = np.array([np.interp(np.linspace(0, len(row), 100), np.arange(len(row)), np.array(row)) \\\n",
    "                      for row in kymo])\n",
    "    kymo = extract.alignKymos(kymo).T\n",
    "    return kymo\n",
    "\n",
    "def readData(dataFolder, umPerPx, fps, j = 0, nmax = None):\n",
    "    df = {}\n",
    "    path = os.path.dirname(dataFolder)\n",
    "    for fn in os.listdir(path):\n",
    "        if nmax != None and len(df.keys())>nmax-1:\n",
    "            break\n",
    "        file = os.path.join(path,fn)\n",
    "        if os.path.isfile(file) and 'results_' in fn and fn.endswith('.json'):\n",
    "            print('Reading', file)\n",
    "            particle_index = int(fn.split('.')[0].split('_')[-1])\n",
    "            traj =  pd.read_json(file, orient='split', numpy = True)\n",
    "            # velocity\n",
    "            t = traj['frame']/fps\n",
    "            v = getVelocity(traj, umPerPx, fps)\n",
    "            # pumping related data\n",
    "            kymo = getKymo(traj, 'Straightened')\n",
    "            rawPump = [-np.max(np.std(sIm, axis =1), axis =0) for sIm in traj['Straightened']]\n",
    "            traj['pump'] = rawPump\n",
    "            prs =  np.linspace(0.15,1.00,50)\n",
    "            p, pump, pks, roc, metric  = getPumps(traj['pump'].values, prs = prs)\n",
    "            #plotPumpAnalysis(pump, pks, roc, prs, time = traj['frame'], metric=metric)\n",
    "            pinterp = np.interp(traj['frame'], p[:-1]+traj['frame'].iloc[0], fps/np.diff(p))\n",
    "            # get a binary trace where pumps are 1 and non-pumps are 0\n",
    "            tmp = np.zeros(len(t))\n",
    "            tmp[p] = 1\n",
    "            \n",
    "            df[j] = {'time': t.values,\n",
    "                     'x': traj['x'].values,\n",
    "                     'y': traj['y'].values,\n",
    "                             'velocity':v,\n",
    "                             'peaks': p.values,\n",
    "                             'pumpTrace':pump,\n",
    "                             'binaryPumps': tmp,\n",
    "                             'pumpInterp': pinterp,\n",
    "                             'inside': traj['inside'].values,\n",
    "                             'insideF': traj['insideHeadIntensity'].values,\n",
    "                             'pid':particle_index,\n",
    "                             'filename': fn,\n",
    "                             'kymo': kymo,\n",
    "                             'fps': fps,\n",
    "                             'scale':umPerPx\n",
    "                            }\n",
    "            j +=1\n",
    "    return df"
   ]
  },
  {
   "cell_type": "markdown",
   "metadata": {},
   "source": [
    "#### Defining entry time"
   ]
  },
  {
   "cell_type": "code",
   "execution_count": null,
   "metadata": {},
   "outputs": [],
   "source": [
    "def zscore(x, window):\n",
    "    r = x.rolling(window=window)\n",
    "    m = r.mean().shift(1)\n",
    "    s = r.std(ddof=0).shift(1)\n",
    "    z = (x-m)/s\n",
    "    return z\n",
    "\n",
    "def getEntryTime(data, method = 'binary', window = 30):\n",
    "    if method =='binary':\n",
    "        # get the first entry from binarized lawn data. data should be the 'inside' variable from pharaglow\n",
    "        t0 = np.where(data ==1)[0]\n",
    "    if method =='fluorescence':\n",
    "        data = pd.Series(data)\n",
    "        data -= data.mean()\n",
    "        data /= data.std()\n",
    "        t0 = np.where(data>0)[0]\n",
    "    if len(t0)>0:\n",
    "       # plt.axvline(t0[0])\n",
    "        return t0[0]\n",
    "    else:\n",
    "        return np.nan\n",
    "\n",
    "### Helper functions to generate aligned velocity and pumping data\n",
    "def alignData(df, tBefore, tAfter):\n",
    "    \"\"\"df is a dictionary created in readData. We will find the point of lawn entry and align and crop data to\n",
    "    tBefore, TAfter. tBefore, tAfter are in frames.\"\"\"\n",
    "    for idx in df.keys():\n",
    "        # identify the inside point t0 or set a flag that it doesn't enter\n",
    "        try:\n",
    "            # t0 is in frames not seconds!\n",
    "            # CAN SWAP BETWEEN BINARY AND FLUORESCENT DETECTION OF LAWN ENTRY HERE\n",
    "            t0 = getEntryTime(df[idx]['insideF'], method = 'fluorescence')\n",
    "            #t0 = getEntryTime(df[idx]['inside'], method = 'binary')\n",
    "            print(t0, np.mean(df[idx]['inside']))\n",
    "            if t0 > tBefore and len(df[idx]['inside']) > t0+tAfter:\n",
    "                # update the data\n",
    "                df[idx]['t0'] = t0\n",
    "                df[idx]['enter'] = True\n",
    "            else:\n",
    "                df[idx]['t0'] = None\n",
    "                df[idx]['enter'] = False\n",
    "        except IndexError:\n",
    "            df[idx]['t0'] = None\n",
    "            df[idx]['enter'] = False\n",
    "        # calculate cropped versions of the data for animals that entered the lawn\n",
    "        if df[idx]['enter']:\n",
    "            for dname in ['insideF', 'velocity', 'time', 'pumpTrace', 'binaryPumps', 'pumpInterp']:\n",
    "                df[idx][dname+'Cut'] = df[idx][dname][df[idx]['t0']-tBefore: df[idx]['t0']+tAfter+1]\n",
    "            # peaks and other info\n",
    "            df[idx]['peaksCut'] = df[idx]['peaks'][(df[idx]['peaks'] > df[idx]['t0']-tBefore)&\n",
    "                                    (df[idx]['peaks'] < df[idx]['t0']+tAfter+1)]\n",
    "            #shift the cut peaks to the correct locations relative to cut window\n",
    "            df[idx]['peaksCut'] =  df[idx]['peaksCut'] - df[idx]['t0']+tBefore\n",
    "            df[idx]['timeEntry'] = np.arange(-tBefore, tAfter+1)\n",
    "            df[idx]['tBefore'] = tBefore\n",
    "            df[idx]['tAfter'] = tAfter\n",
    "    return df"
   ]
  },
  {
   "cell_type": "markdown",
   "metadata": {},
   "source": [
    "#### Defining average plotting function"
   ]
  },
  {
   "cell_type": "code",
   "execution_count": null,
   "metadata": {},
   "outputs": [],
   "source": [
    "def graphing(Data, condition, plotpath, method = 'single', save = 'Yes'):\n",
    "    # setting up GridSpec\n",
    "    f1 = plt.figure(figsize = (16,4))\n",
    "    grid = mpl.gridspec.GridSpec(ncols=3, nrows = 1, hspace = 0.3)\n",
    "    # creating subplots\n",
    "    axa = f1.add_subplot(grid[0,0])\n",
    "    axb = f1.add_subplot(grid[0,1])\n",
    "    axc = f1.add_subplot(grid[0,2])\n",
    "    # axes dictionary\n",
    "    axes = {\n",
    "        'xlabel':'Time(s)',\n",
    "        'ylabelv':'Velocity (um/s)',\n",
    "        'ylabelp':'Pumping rate (Hz)',\n",
    "        'ylabelf' : 'Fluorescence'\n",
    "    }\n",
    "    # extracting necessary data\n",
    "    t, v, pr, f = [], [], [], []\n",
    "    for idx in Data.keys():\n",
    "        if Data[idx]['enter']:\n",
    "            # pumping rate using rolling mean rate in a rolling 1 second window\n",
    "            tAfter = Data[idx]['tAfter'] \n",
    "            #tmp = pd.Series(df[idx]['binaryPumpsCut']).rolling(fps).sum()\n",
    "            tmp = Data[idx]['pumpInterpCut']\n",
    "            t.append(Data[idx]['timeEntry']/Data[idx]['fps'])\n",
    "            pr.append(tmp)\n",
    "            v.append(Data[idx]['velocityCut'])\n",
    "            f.append(Data[idx]['insideFCut']/np.max(Data[idx]['insideFCut']))\n",
    "    print ('Plotting', condition+'...')\n",
    "    # adding titles\n",
    "    if method == 'average':\n",
    "        # average velocity across all trajectories and all movies per strain\n",
    "        mv, sv = np.mean(np.array(v), axis =0), np.std(np.array(v), axis =0)\n",
    "        time = np.mean(t, axis=0)\n",
    "        axa.plot(time, mv, color = colors[condition], alpha = 0.7)\n",
    "        axa.fill_between(time, mv-sv, mv+sv, \n",
    "                             color = 'gray', alpha = 0.3)\n",
    "        #axa.axvline(x = Data[idx]['timeEntry']/Data[idx]['fps'], color = 'black', dashes = (5, 2))\n",
    "        axa.axvspan( 0, tAfter/Data[idx]['fps'], color='k', alpha=0.3)\n",
    "        # making it pretty\n",
    "        axa.annotate('n = '+str(len(v)), (0.8, 0.8), xycoords='axes fraction')\n",
    "        axa.set_ylabel(axes['ylabelv'])\n",
    "        axa.set_xlabel(axes['xlabel'])\n",
    "        axa.set_ylim(0,200)\n",
    "        # average pumping rate across all trajectories and all movies per strain\n",
    "        mp, sp = np.mean(np.array(pr), axis = 0), np.std(np.array(pr), axis =0)\n",
    "        axb.plot(time, mp, color = colors[condition], alpha = 0.5)\n",
    "        axb.fill_between(time, mp-sp, mp+sp, \n",
    "                 color = 'gray', alpha = 0.3)\n",
    "        axb.plot(time, smooth(mp, 50), 'black', lw =2)\n",
    "        #axb.axvline(x = Data[idx]['timeEntry']/Data[idx]['fps'], color = 'black', dashes = (5, 2))\n",
    "        axb.axvspan( 0, tAfter/Data[idx]['fps'], color='k', alpha=0.3)\n",
    "        # making it pretty\n",
    "        axb.annotate('n = '+str(len(pr)), (0.8, 0.8), xycoords='axes fraction')\n",
    "        axb.set_ylabel(axes['ylabelp'])\n",
    "        axb.set_xlabel(axes['xlabel'])\n",
    "        axb.set_ylim(0,6)\n",
    "        # average fluorescence sanity check\n",
    "        mf, sf = np.mean(np.array(f), axis =0), np.std(np.array(f), axis =0)\n",
    "        axc.plot(time, mf, color = colors[condition], alpha = 0.7)\n",
    "        axc.fill_between(time, mf-sf, mf+sf, \n",
    "                             color = 'gray', alpha = 0.3)\n",
    "        #axa.axvline(x = Data[idx]['timeEntry']/Data[idx]['fps'], color = 'black', dashes = (5, 2))\n",
    "        axc.axvspan( 0, tAfter/Data[idx]['fps'], color='k', alpha=0.3)\n",
    "        # making it pretty\n",
    "        axc.annotate('n = '+str(len(f)), (0.8, 0.8), xycoords='axes fraction')\n",
    "        axc.set_ylabel(axes['ylabelf'])\n",
    "        axc.set_xlabel(axes['xlabel'])\n",
    "        axc.set_ylim(0,1)\n",
    "        # setting axes titles\n",
    "        axa.set_title('Average Velocity of Trajectories per Video')\n",
    "        axb.set_title('Pumping Rate (Hz) of Trajectories per Video')\n",
    "        axc.set_title('Average Fluorescence')\n",
    "        # saving data variable\n",
    "        plotpath = plotpath.format(condition)\n",
    "        print('Ta da!')\n",
    "        # OPTIONAL - save figure\n",
    "        if save == 'Yes':\n",
    "            print(plotpath)\n",
    "            plt.savefig(plotpath)\n",
    "        else:\n",
    "            print('Not saved')\n",
    "    if method == 'single':\n",
    "        time = t\n",
    "        # velocities across all trajectories and all movies per strain\n",
    "        axa.plot(time, v, color = colors[condition], alpha = 0.1)\n",
    "        axa.axvspan( 0, tAfter/Data[idx]['fps'], color='k', alpha=0.3)\n",
    "        # making it pretty\n",
    "        axa.annotate('n = '+str(len(f)), (0.8, 0.8), xycoords='axes fraction')\n",
    "        axa.set_ylabel(axes['ylabelv'])\n",
    "        axa.set_xlabel(axes['xlabel'])\n",
    "        axa.set_ylim(0,250)\n",
    "        # pumping rates across all trajectories and all movies per strain\n",
    "        axb.plot(time, pr, color = colors[condition], alpha = 0.1)\n",
    "        axb.annotate('n = '+str(len(f)), (0.8, 0.8), xycoords='axes fraction')\n",
    "        axb.axvspan(0, tAfter/Data[idx]['fps'], color='k', alpha=0.3)\n",
    "        # making it pretty\n",
    "        axb.set_ylabel(axes['ylabelp'])\n",
    "        axb.set_xlabel(axes['xlabel'])\n",
    "        axb.set_ylim(0,6)\n",
    "        # fluorescence sanity check\n",
    "        axc.plot(time, f, color = colors[condition], alpha = 0.1)\n",
    "        # making it pretty\n",
    "        axc.set_ylabel(axes['ylabelf'])\n",
    "        axc.set_xlabel(axes['xlabel'])\n",
    "        axc.set_ylim(0,1)\n",
    "        # setting axes titles\n",
    "        axa.set_title('Velocity of all Trajectories per Video')\n",
    "        axb.set_title('Pumping Rate (Hz) of Trajectories per Video')\n",
    "        axc.set_title('Fluorescence')\n",
    "        # saving data variable\n",
    "        plotpath = plotpath.format(condition)\n",
    "        print('Ta da!')\n",
    "        # OPTIONAL - save figure\n",
    "        if save == 'Yes':\n",
    "            print(plotpath)\n",
    "            plt.savefig(plotpath)\n",
    "        else:\n",
    "            print('Not saved')"
   ]
  },
  {
   "cell_type": "markdown",
   "metadata": {},
   "source": [
    "#### Defining saving and loading process"
   ]
  },
  {
   "cell_type": "code",
   "execution_count": null,
   "metadata": {},
   "outputs": [],
   "source": [
    "def readPharaglow(strains, directories, index, save=True):\n",
    "    Data = readData(directories[index], umPerPx, fps, nmax = None)\n",
    "    if save:\n",
    "        saveData = open(f'/home/nzjacic/Desktop/Diagnostics/Saved_data/{strains[index]}', 'wb')\n",
    "        pickle.dump(Data, saveData)\n",
    "        saveData.close()"
   ]
  },
  {
   "cell_type": "code",
   "execution_count": null,
   "metadata": {},
   "outputs": [],
   "source": [
    "def loadPharaglow(strains, directories, index):\n",
    "    saveData = open(f'/home/nzjacic/Desktop/Diagnostics/Saved_data/{strains[index]}', 'rb')\n",
    "    Data = pickle.load(saveData)\n",
    "    saveData.close()\n",
    "    return Data"
   ]
  },
  {
   "cell_type": "markdown",
   "metadata": {},
   "source": [
    "### Reading and Graphing (add as strains increase)"
   ]
  },
  {
   "cell_type": "markdown",
   "metadata": {},
   "source": [
    "#### Control"
   ]
  },
  {
   "cell_type": "code",
   "execution_count": null,
   "metadata": {},
   "outputs": [],
   "source": [
    "#readPharaglow(strains, directories, index=0)"
   ]
  },
  {
   "cell_type": "code",
   "execution_count": null,
   "metadata": {},
   "outputs": [],
   "source": [
    "Data = loadPharaglow(strains, directories, index=0)\n",
    "Data = alignData(Data, tBefore=tBefore, tAfter=tAfter)\n",
    "# change plot variable and method\n",
    "graphing(Data, strains[0], singleplot, method = 'single', save = 'Yes')"
   ]
  },
  {
   "cell_type": "code",
   "execution_count": null,
   "metadata": {},
   "outputs": [],
   "source": [
    "v, pr = [], []\n",
    "for idx in Data.keys():\n",
    "    if Data[idx]['enter']:\n",
    "        # pumping rate using rolling mean rate in a rolling 1 second window\n",
    "        #tmp = pd.Series(df[idx]['binaryPumpsCut']).rolling(fps).sum()\n",
    "        tmp = Data[idx]['pumpInterpCut']\n",
    "        pr.append(tmp)\n",
    "        v.append(Data[idx]['velocityCut'])\n",
    "plt.scatter(v, pr, color = 'blue', alpha = 0.4)\n",
    "plt.ylabel('Pumping rate (Hz)')\n",
    "plt.xlabel('Velocity (um/s)')"
   ]
  },
  {
   "cell_type": "markdown",
   "metadata": {},
   "source": [
    "#### INF100"
   ]
  },
  {
   "cell_type": "code",
   "execution_count": null,
   "metadata": {},
   "outputs": [],
   "source": [
    "#readPharaglow(strains, directories, index=1)"
   ]
  },
  {
   "cell_type": "code",
   "execution_count": null,
   "metadata": {},
   "outputs": [],
   "source": [
    "Data = loadPharaglow(strains, directories, index=1)\n",
    "Data = alignData(Data, tBefore=tBefore, tAfter=tAfter)\n",
    "graphing(Data, strains[1], singleplot, method = 'single', save = 'Yes')"
   ]
  },
  {
   "cell_type": "markdown",
   "metadata": {},
   "source": [
    "#### INF102"
   ]
  },
  {
   "cell_type": "code",
   "execution_count": null,
   "metadata": {},
   "outputs": [],
   "source": [
    "#readPharaglow(strains, directories, index=2)"
   ]
  },
  {
   "cell_type": "code",
   "execution_count": null,
   "metadata": {},
   "outputs": [],
   "source": [
    "Data = loadPharaglow(strains, directories, index=2)\n",
    "Data = alignData(Data, tBefore=tBefore, tAfter=tAfter)\n",
    "graphing(Data, strains[2], singleplot, method = 'single', save = 'Yes')"
   ]
  },
  {
   "cell_type": "markdown",
   "metadata": {},
   "source": [
    "#### INF103"
   ]
  },
  {
   "cell_type": "code",
   "execution_count": null,
   "metadata": {},
   "outputs": [],
   "source": [
    "#readPharaglow(strains, directories, index=3)"
   ]
  },
  {
   "cell_type": "code",
   "execution_count": null,
   "metadata": {},
   "outputs": [],
   "source": [
    "Data = loadPharaglow(strains, directories, index=3)\n",
    "Data = alignData(Data, tBefore=tBefore, tAfter=tAfter)\n",
    "graphing(Data, strains[3], singleplot, method = 'single', save = 'Yes')"
   ]
  },
  {
   "cell_type": "markdown",
   "metadata": {},
   "source": [
    "#### INF5"
   ]
  },
  {
   "cell_type": "code",
   "execution_count": null,
   "metadata": {},
   "outputs": [],
   "source": [
    "#readPharaglow(strains, directories, index=4)"
   ]
  },
  {
   "cell_type": "code",
   "execution_count": null,
   "metadata": {},
   "outputs": [],
   "source": [
    "Data = loadPharaglow(strains, directories, index=4)\n",
    "Data = alignData(Data, tBefore=tBefore, tAfter=tAfter)\n",
    "graphing(Data, strains[4], singleplot, method = 'single', save = 'Yes')"
   ]
  },
  {
   "cell_type": "code",
   "execution_count": null,
   "metadata": {},
   "outputs": [],
   "source": []
  }
 ],
 "metadata": {
  "kernelspec": {
   "display_name": "Python 3",
   "language": "python",
   "name": "python3"
  },
  "language_info": {
   "codemirror_mode": {
    "name": "ipython",
    "version": 3
   },
   "file_extension": ".py",
   "mimetype": "text/x-python",
   "name": "python",
   "nbconvert_exporter": "python",
   "pygments_lexer": "ipython3",
   "version": "3.7.7"
  }
 },
 "nbformat": 4,
 "nbformat_minor": 2
}
