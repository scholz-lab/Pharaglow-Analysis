{
 "cells": [
  {
   "cell_type": "markdown",
   "metadata": {},
   "source": [
    "# Analyzing velocity and pumping with Pharaglow"
   ]
  },
  {
   "cell_type": "markdown",
   "metadata": {},
   "source": [
    "## Importing packages"
   ]
  },
  {
   "cell_type": "code",
   "execution_count": 1,
   "metadata": {},
   "outputs": [],
   "source": [
    "%matplotlib inline\n",
    "import pandas as pd\n",
    "import os\n",
    "import numpy as np\n",
    "\n",
    "# plotting\n",
    "import matplotlib  as mpl\n",
    "import matplotlib.pylab as plt\n",
    "\n",
    "# image processing\n",
    "import skimage\n",
    "from skimage import io\n",
    "from skimage.util import img_as_float\n",
    "from skimage.filters import threshold_li\n",
    "from scipy import ndimage\n",
    "from skimage.morphology import remove_small_objects\n",
    "from skimage.exposure import histogram\n",
    "import json\n",
    "import pims\n",
    "import trackpy as tp\n",
    "\n",
    "# our packages\n",
    "from pharaglow import extract, util\n",
    "from pharaglow.util import smooth"
   ]
  },
  {
   "cell_type": "markdown",
   "metadata": {},
   "source": [
    "## Directing path options and variables (CHANGE NAMES OR YOUR FILES ARE OVERWRITTEN)"
   ]
  },
  {
   "cell_type": "code",
   "execution_count": 2,
   "metadata": {},
   "outputs": [
    {
     "name": "stdout",
     "output_type": "stream",
     "text": [
      "Is there a lawn? Yes\n",
      "fps: 30\n"
     ]
    }
   ],
   "source": [
    "# ADD DIRECTORY OF STRAIN MASTER FOLDER(S)\n",
    "ctrl = \"/media/scholz_la/hd2/Nicolina/Pharaglow/Pharaglow_v5/10x_GRU101_RFP_24hr/test/\"\n",
    "INF100 = \"/media/scholz_la/hd2/Nicolina/Pharaglow/Pharaglow_v5/10x_INF100/\"\n",
    "\n",
    "# IS THERE A LAWN?\n",
    "lawn = 'Yes' #or 'No'\n",
    "print('Is there a lawn?', lawn)\n",
    "\n",
    "# FPS?\n",
    "fps = 30\n",
    "print('fps:', fps)\n",
    "\n",
    "# HOW MANY MICRONS PER PIXEL?\n",
    "umPerPx = 2.34\n",
    "\n",
    "# FIGURE NAMES\n",
    "# all_velocities = \"/home/nzjacic/Desktop/Rough_figures/10X_INF100/10x_INF100.5_all_velocities.pdf\"\n",
    "# averaged_velocities = \"/home/nzjacic/Desktop/Rough_figures/10x_INF100/10x_INF100.5_combined_averaged_velocities.pdf\"\n",
    "# entry_trajectory = \"/home/nzjacic/Desktop/Rough_figures/10X_INF100/10x_INF100.5_entries_trajectories.pdf\""
   ]
  },
  {
   "cell_type": "markdown",
   "metadata": {},
   "source": [
    "## Defining functions"
   ]
  },
  {
   "cell_type": "markdown",
   "metadata": {},
   "source": [
    "### Defining function to prepare binary of lawn image"
   ]
  },
  {
   "cell_type": "code",
   "execution_count": 3,
   "metadata": {},
   "outputs": [],
   "source": [
    "def prepLawn(filename):\n",
    "    # outlining lawn and turning into binary - thresholding with li (CHANGE NAME)\n",
    "    image = img_as_float(skimage.io.imread(filename)).astype(np.float64)\n",
    "    thresh = threshold_li(image)\n",
    "    binary = image > thresh\n",
    "    # troubleshooting images with noise around the lawn (optional)\n",
    "    binary = remove_small_objects(binary, min_size = 5000, connectivity = 2) #change min_size \n",
    "    # filling small holes in the lawn\n",
    "    binary = ndimage.binary_fill_holes(binary).astype(int)\n",
    "    return binary"
   ]
  },
  {
   "cell_type": "markdown",
   "metadata": {},
   "source": [
    "### Defining functions to extract velocity, pumping and kymo (?)"
   ]
  },
  {
   "cell_type": "code",
   "execution_count": 4,
   "metadata": {},
   "outputs": [],
   "source": [
    "def getVelocity(traj, umperPx, fps):\n",
    "    return np.sqrt((np.diff(traj['x'])**2+np.diff(traj['y'])**2))/np.diff(traj['frame'])*umperPx*fps\n",
    "\n",
    "def getPumps(traj):\n",
    "    return extract.bestMatchPeaks(traj['pumps'])\n",
    "\n",
    "def getKymo(df, key):\n",
    "    kymo = np.sum([np.array(list(filter(None.__ne__,row))) for row in df[key].values], axis=2)\n",
    "    kymo = np.array([np.interp(np.linspace(0, len(row), 100), np.arange(len(row)), np.array(row)) \\\n",
    "                      for row in kymo])\n",
    "    kymo = extract.alignKymos(kymo).T\n",
    "    return kymo"
   ]
  },
  {
   "cell_type": "markdown",
   "metadata": {},
   "source": [
    "### Defining how Python reads in Pharaglow and lawn data"
   ]
  },
  {
   "cell_type": "code",
   "execution_count": 24,
   "metadata": {},
   "outputs": [
    {
     "name": "stdout",
     "output_type": "stream",
     "text": [
      "CPU times: user 15 µs, sys: 0 ns, total: 15 µs\n",
      "Wall time: 22.2 µs\n"
     ]
    }
   ],
   "source": [
    "%%time\n",
    "def readData(dataFolder, umPerPx, fps, j = 0):\n",
    "    df = {}\n",
    "    lawnImages = {}\n",
    "    path = os.path.dirname(dataFolder)\n",
    "    for fn in os.listdir(path):\n",
    "        file = os.path.join(path,fn)\n",
    "        if os.path.isfile(file) and 'results_' in fn and fn.endswith('.json'):\n",
    "            print('Reading', file)\n",
    "            particle_index = int(fn.split('.')[0].split('_')[-1])\n",
    "            traj =  pd.read_json(file, orient='split', numpy = True)\n",
    "            # velocity\n",
    "            t = traj['frame']/fps\n",
    "            v = getVelocity(traj, umPerPx, fps)\n",
    "            p, pump, pks, roc  = getPumps(traj)\n",
    "            kymo = getKymo(traj, 'Straightened')\n",
    "            df[j] = {'time': t,\n",
    "                     'x': traj['x'],\n",
    "                     'y': traj['y'],\n",
    "                             'velocity':v,\n",
    "                             'peaks': p,\n",
    "                             'pumpTrace':pump.values,\n",
    "                             'inside': traj['inside'],\n",
    "                             'pid':particle_index,\n",
    "                             'filename': fn,\n",
    "                             'kymo': kymo\n",
    "                                 }\n",
    "            j +=1\n",
    "            # creating dictionary of lawn images based on exp.ID if necessary\n",
    "#             if lawn == 'Yes':\n",
    "#                 lawnfile = particle_index\n",
    "#                 if lawnfile not in lawnImages.keys():\n",
    "#                     lawnpath = '/media/scholz_la/hd2/Nicolina/Lawns/'\n",
    "#                     lawnImages[lawnfile] = prepLawn(os.path.join(lawnpath, lawnfile+'_lawn.tiff') or os.path.join(lawnpath, lawnfile+'_lawn.bmp'))\n",
    "#                     print(lawnfile)\n",
    "    return df"
   ]
  },
  {
   "cell_type": "markdown",
   "metadata": {},
   "source": [
    "## Plotting"
   ]
  },
  {
   "cell_type": "markdown",
   "metadata": {},
   "source": [
    "### Reading in Pharaglow results for different strains/conditions"
   ]
  },
  {
   "cell_type": "code",
   "execution_count": 25,
   "metadata": {},
   "outputs": [
    {
     "name": "stdout",
     "output_type": "stream",
     "text": [
      "Reading /media/scholz_la/hd2/Nicolina/Pharaglow/Pharaglow_v5/10x_GRU101_RFP_24hr/test/20200320_NZ0045_test_results_0.json\n"
     ]
    },
    {
     "name": "stderr",
     "output_type": "stream",
     "text": [
      "/home/nzjacic/.conda/envs/pumping/lib/python3.7/site-packages/ipykernel_launcher.py:10: FutureWarning: the 'numpy' keyword is deprecated and will be removed in a future version. Please take steps to stop the use of 'numpy'\n",
      "  # Remove the CWD from sys.path while we load stuff.\n"
     ]
    },
    {
     "name": "stdout",
     "output_type": "stream",
     "text": [
      "Reading /media/scholz_la/hd2/Nicolina/Pharaglow/Pharaglow_v5/10x_GRU101_RFP_24hr/test/20200320_NZ0045_test_results_1.json\n",
      "Reading /media/scholz_la/hd2/Nicolina/Pharaglow/Pharaglow_v5/10x_GRU101_RFP_24hr/test/20200320_NZ0045_test_results_11.json\n",
      "Reading /media/scholz_la/hd2/Nicolina/Pharaglow/Pharaglow_v5/10x_GRU101_RFP_24hr/test/20200320_NZ0045_test_results_12.json\n",
      "Reading /media/scholz_la/hd2/Nicolina/Pharaglow/Pharaglow_v5/10x_GRU101_RFP_24hr/test/20200320_NZ0045_test_results_13.json\n",
      "Reading /media/scholz_la/hd2/Nicolina/Pharaglow/Pharaglow_v5/10x_GRU101_RFP_24hr/test/20200320_NZ0045_test_results_14.json\n",
      "Reading /media/scholz_la/hd2/Nicolina/Pharaglow/Pharaglow_v5/10x_GRU101_RFP_24hr/test/20200320_NZ0045_test_results_2.json\n",
      "Reading /media/scholz_la/hd2/Nicolina/Pharaglow/Pharaglow_v5/10x_GRU101_RFP_24hr/test/20200320_NZ0045_test_results_4.json\n",
      "Reading /media/scholz_la/hd2/Nicolina/Pharaglow/Pharaglow_v5/10x_GRU101_RFP_24hr/test/20200320_NZ0045_test_results_5.json\n",
      "Reading /media/scholz_la/hd2/Nicolina/Pharaglow/Pharaglow_v5/10x_GRU101_RFP_24hr/test/20200320_NZ0045_test_results_6.json\n",
      "Reading /media/scholz_la/hd2/Nicolina/Pharaglow/Pharaglow_v5/10x_GRU101_RFP_24hr/test/20200320_NZ0045_test_results_7.json\n",
      "Reading /media/scholz_la/hd2/Nicolina/Pharaglow/Pharaglow_v5/10x_GRU101_RFP_24hr/test/20200320_NZ0045_test_results_8.json\n",
      "Reading /media/scholz_la/hd2/Nicolina/Pharaglow/Pharaglow_v5/10x_GRU101_RFP_24hr/test/20200320_NZ0045_test_results_9.json\n",
      "Reading /media/scholz_la/hd2/Nicolina/Pharaglow/Pharaglow_v5/10x_INF100/20200326_NZ0046_test_results_0.json\n",
      "Reading /media/scholz_la/hd2/Nicolina/Pharaglow/Pharaglow_v5/10x_INF100/20200326_NZ0046_test_results_1.json\n",
      "Reading /media/scholz_la/hd2/Nicolina/Pharaglow/Pharaglow_v5/10x_INF100/20200326_NZ0046_test_results_3.json\n",
      "Reading /media/scholz_la/hd2/Nicolina/Pharaglow/Pharaglow_v5/10x_INF100/20200326_NZ0046_test_results_4.json\n",
      "Reading /media/scholz_la/hd2/Nicolina/Pharaglow/Pharaglow_v5/10x_INF100/20200326_NZ0046_test_results_5.json\n",
      "Reading /media/scholz_la/hd2/Nicolina/Pharaglow/Pharaglow_v5/10x_INF100/20200326_NZ0046_test_results_6.json\n",
      "Reading /media/scholz_la/hd2/Nicolina/Pharaglow/Pharaglow_v5/10x_INF100/20200326_NZ0046_test_results_7.json\n",
      "Reading /media/scholz_la/hd2/Nicolina/Pharaglow/Pharaglow_v5/10x_INF100/20200326_NZ0046_test_results_8.json\n",
      "Reading /media/scholz_la/hd2/Nicolina/Pharaglow/Pharaglow_v5/10x_INF100/20200326_NZ0046_test_results_9.json\n",
      "CPU times: user 4min 42s, sys: 14.9 s, total: 4min 56s\n",
      "Wall time: 4min 5s\n"
     ]
    }
   ],
   "source": [
    "%%time\n",
    "\n",
    "# Making dictionary combining data with strain name in their separate master folders\n",
    "Data = {}\n",
    "for strainName, folder in zip(['Control', 'INF100'], [ctrl, INF100]):\n",
    "    Data[strainName] = readData(folder, umPerPx, fps)\n",
    "\n",
    "# # control\n",
    "# ctrlData = ctrlData.update(readData(folder, umPerPx, fps, j = j))\n",
    "\n",
    "# # strain 1 - INF100\n",
    "# INF100Data ={}\n",
    "# j = 0\n",
    "# for folder in INF100:\n",
    "#     INF100Data.update(readData(folder, umPerPx, fps, j = j))\n",
    "#     j = max(INF100Data.keys())+1"
   ]
  },
  {
   "cell_type": "markdown",
   "metadata": {},
   "source": [
    "### Extract velocity for all worms in all conditions"
   ]
  },
  {
   "cell_type": "code",
   "execution_count": 92,
   "metadata": {},
   "outputs": [
    {
     "name": "stdout",
     "output_type": "stream",
     "text": [
      "pid: INF100 0\n",
      "f: 0.5883987109678853\n",
      "t0: 1413\n",
      "t0-dt or t0+dt exceeds number of frames\n",
      "pid INF100 1\n",
      "f out of bounds\n",
      "pid: INF100 2\n",
      "f: 0.6122868545168703\n",
      "t0: 1446\n",
      "t0-dt or t0+dt exceeds number of frames\n",
      "pid: INF100 3\n",
      "f: 0.26752633490737376\n",
      "t0: 4033\n",
      "t0-dt or t0+dt exceeds number of frames\n",
      "pid: INF100 4\n",
      "f: 0.1369435042957563\n",
      "t0: 3218\n",
      "t0-dt or t0+dt exceeds number of frames\n",
      "pid INF100 5\n",
      "f out of bounds\n",
      "pid INF100 6\n",
      "f out of bounds\n",
      "pid: INF100 7\n",
      "f: 0.012641815235008104\n",
      "t0: 3046\n",
      "t0-dt or t0+dt exceeds number of frames\n",
      "pid: INF100 8\n",
      "f: 0.6129032258064516\n",
      "t0: 0\n",
      "trajectory is too short\n"
     ]
    },
    {
     "data": {
      "image/png": "[encoded data removed]",
      "text/plain": [
       "<Figure size 1152x576 with 4 Axes>"
      ]
     },
     "metadata": {
      "needs_background": "light"
     },
     "output_type": "display_data"
    }
   ],
   "source": [
    "# graphing velocity using grid subplotting\n",
    "f1 = plt.figure(figsize = (16,8))\n",
    "dt = 500\n",
    "# change number of rows to the number of strains\n",
    "grid = mpl.gridspec.GridSpec(ncols=2, nrows =2)\n",
    "# setting up subplots for velocity (a) and pumping (b) - add as number of strains increase\n",
    "# velocity\n",
    "ax1a = f1.add_subplot(grid[0,0])\n",
    "ax2a = f1.add_subplot(grid[1,0])\n",
    "# pumping\n",
    "ax1b = f1.add_subplot(grid[0,1])\n",
    "ax2b = f1.add_subplot(grid[1,1])\n",
    "\n",
    "# plotting velocity and pumping\n",
    "if lawn is 'Yes':\n",
    "    for idx in Data[strainName].keys():\n",
    "        f = (Data[strainName][idx]['inside']).mean()\n",
    "        if f<0.9 and f>0.01:\n",
    "            print('pid:', strainName, idx)\n",
    "            print('f:', f)\n",
    "            t0 = np.where(Data[strainName][idx]['inside'] ==1)[0][0]\n",
    "            print('t0:', t0)\n",
    "            try:\n",
    "                if t0>dt:\n",
    "                    time = np.linspace(0,2*dt/30., 2*dt)\n",
    "                    #print(time)\n",
    "                    # ADD VELOCITY SUBPLOTS HERE\n",
    "                    ax1a.plot(time, Data['Control'][idx]['velocity'][t0-dt:t0+dt])\n",
    "                    ax2a.plot(time, Data['INF100'][idx]['velocity'][t0-dt:t0+dt])\n",
    "                    # ADD PUMPING SUBPLOTS HERE\n",
    "                    ax1b.plot(time, Data['Control'][idx]['peaks'][t0-dt:t0+dt])\n",
    "                    ax2b.plot(time, Data['INF100'][idx]['peaks'][t0-dt:t0+dt])\n",
    "                else:\n",
    "                    print('trajectory is too short')\n",
    "            except ValueError:\n",
    "                print('t0-dt or t0+dt exceeds number of frames')\n",
    "                continue\n",
    "            \n",
    "        else:\n",
    "            print('pid', strainName, idx)\n",
    "            print('f out of bounds')"
   ]
  },
  {
   "cell_type": "code",
   "execution_count": 71,
   "metadata": {},
   "outputs": [
    {
     "name": "stdout",
     "output_type": "stream",
     "text": [
      "[]\n"
     ]
    }
   ],
   "source": [
    "print(Data['Control'][idx]['velocity'][t0-dt:t0+dt])"
   ]
  },
  {
   "cell_type": "markdown",
   "metadata": {},
   "source": [
    "### Extract pumping data for all worms in all conditions"
   ]
  },
  {
   "cell_type": "code",
   "execution_count": null,
   "metadata": {},
   "outputs": [],
   "source": [
    "# labels_p = ['Control', 'INF00']\n",
    "# dsets_p = [ctrlData,INF100Data]\n",
    "# rates_p = {}\n",
    "# for lbl_p, df_p in zip(labels_p,dsets_p) :\n",
    "#     pr_p = []\n",
    "#     for idx_p in df_p.keys():\n",
    "#         pr_p.append(df_p[idx]['time'].iloc[df_p[idx]['peaks']])\n",
    "#     rates[lbl_p] = pr_p"
   ]
  },
  {
   "cell_type": "markdown",
   "metadata": {},
   "source": [
    "### Comparing average pumping rate across strains"
   ]
  },
  {
   "cell_type": "code",
   "execution_count": null,
   "metadata": {},
   "outputs": [],
   "source": [
    "# f1 = plt.figure(figsize = (10,6))\n",
    "# grid = mpl.gridspec.GridSpec(ncols=2, nrows =3)\n",
    "# ax1 = f1.add_subplot(grid[:,0]) \n",
    "# ax2a = f1.add_subplot(grid[0,1])\n",
    "# ax2b = f1.add_subplot(grid[1,1])\n",
    "# ax2c = f1.add_subplot(grid[2,1])\n",
    "# histaxes = [ax2a, ax2b, ax2c]\n",
    "# for lip, lbl_p in enumerate(labels_p):\n",
    "#     pr_p = rates[lbl_p]\n",
    "#     # get mean rate per worm for a box plot\n",
    "#     meanRate = [np.mean(1./np.diff(p)) for p in pr_p]\n",
    "#     bins = np.linspace(0,6,15)\n",
    "#     hist = [np.histogram(1./np.diff(p), bins, density=True)[0] for p in pr_p]\n",
    "    \n",
    "#     ax1.boxplot(meanRate, labels =[lbl+\" (N={})\".format(len(pr_p))], positions=[lip])\n",
    "#     ax1.scatter(np.ones(len(meanRate))*lip, meanRate)\n",
    "#     ax1.set_ylabel('Pumping Rate (Hz)')\n",
    "    \n",
    "#     histaxes[lip].step(bins[:-1], np.mean(hist, axis =0))\n",
    "#     print('Histogram integral is', np.sum(np.mean(hist, axis =0))*np.diff(bins)[0])\n",
    "# ax2b.set_ylabel('PDF')\n",
    "# ax2c.set_xlabel('pumping rate (Hz)')"
   ]
  },
  {
   "cell_type": "markdown",
   "metadata": {},
   "source": [
    "## Velocity"
   ]
  },
  {
   "cell_type": "markdown",
   "metadata": {},
   "source": [
    "### Saving velocity data"
   ]
  },
  {
   "cell_type": "code",
   "execution_count": null,
   "metadata": {},
   "outputs": [],
   "source": [
    "# making velocities and cutVelocities into a data frame\n",
    "features_vs, features_cutv = vs, cutv\n",
    "features_vs, features_cutv = pd.DataFrame(features_vs), pd.DataFrame(features_cutv)\n",
    "print(\"Checking velocity:\", features_vs, \"Checking cut velocities:\", features_cutv)\n",
    "\n",
    "#checking data frame\n",
    "features_vs.info(memory_usage='deep')\n",
    "features_cutv.info(memory_usage='deep')\n",
    "\n",
    "#saving as .csv file\n",
    "features_vs.to_csv(outfile_vs)\n",
    "features_cutv.to_csv(outfile_cutv)"
   ]
  }
 ],
 "metadata": {
  "kernelspec": {
   "display_name": "Python 3",
   "language": "python",
   "name": "python3"
  },
  "language_info": {
   "codemirror_mode": {
    "name": "ipython",
    "version": 3
   },
   "file_extension": ".py",
   "mimetype": "text/x-python",
   "name": "python",
   "nbconvert_exporter": "python",
   "pygments_lexer": "ipython3",
   "version": "3.7.3"
  }
 },
 "nbformat": 4,
 "nbformat_minor": 2
}
