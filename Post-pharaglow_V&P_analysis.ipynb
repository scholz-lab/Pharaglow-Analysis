{
 "cells": [
  {
   "cell_type": "markdown",
   "metadata": {},
   "source": [
    "# Velocity and pumping diagnostics after PharaGlow analysis"
   ]
  },
  {
   "cell_type": "markdown",
   "metadata": {},
   "source": [
    "## Changing names (user input required)"
   ]
  },
  {
   "cell_type": "markdown",
   "metadata": {},
   "source": [
    "#### Strain directories"
   ]
  },
  {
   "cell_type": "code",
   "execution_count": 1,
   "metadata": {},
   "outputs": [],
   "source": [
    "# ADD DIRECTORY OF STRAIN MASTER FOLDER(S)\n",
    "ctrl = \"/media/scholz_la/hd2/Nicolina/Pharaglow/Old_files/Pharaglow_v5/10x_GRU101_RFP_24hr/\"\n",
    "INF100 = \"/media/scholz_la/hd2/Nicolina/Pharaglow/Pharaglow_batch/INF100/\"\n",
    "INF102 = \"/media/scholz_la/soma/Nicolina/INF102/RFP_24h/10x/10x_INF102_analyzed/\"\n",
    "\n",
    "# FINAL FIGURE NAME AND DIRECTORY (figure name MUST have .pdf at the end) - if not changed the previous figure\n",
    "# WILL be erased so be careful!\n",
    "figurename = \"/home/nzjacic/Desktop/10x_concentration_diagnostics.pdf\""
   ]
  },
  {
   "cell_type": "markdown",
   "metadata": {},
   "source": [
    "#### Dictionary linking strain names to their folders and graph colors"
   ]
  },
  {
   "cell_type": "code",
   "execution_count": 2,
   "metadata": {},
   "outputs": [],
   "source": [
    "# ADD STRAIN NAMES\n",
    "strains = ['Control', 'INF100', 'INF102']\n",
    "\n",
    "# ADD DIRECTORY VARIABLE\n",
    "directories = [ctrl, INF100, INF102]\n",
    "\n",
    "# ADD COLORS\n",
    "# if a syntax error comes up it's probably because you forgot to add a comma after the previous strain name\n",
    "colors = {\n",
    "        'INF100':'red',\n",
    "        'Control':'blue',\n",
    "        'INF102' :'green'\n",
    "    }"
   ]
  },
  {
   "cell_type": "markdown",
   "metadata": {},
   "source": [
    "#### Variables"
   ]
  },
  {
   "cell_type": "code",
   "execution_count": 3,
   "metadata": {},
   "outputs": [],
   "source": [
    "# IS THERE A LAWN?\n",
    "lawn = 'Yes' #or 'No'\n",
    "\n",
    "# FPS?\n",
    "fps = 30\n",
    "\n",
    "# HOW MANY MICRONS PER PIXEL?\n",
    "umPerPx = 2.34"
   ]
  },
  {
   "cell_type": "markdown",
   "metadata": {},
   "source": [
    "## Extracting velocity and pumping information"
   ]
  },
  {
   "cell_type": "markdown",
   "metadata": {},
   "source": [
    "### Importing packages"
   ]
  },
  {
   "cell_type": "code",
   "execution_count": 4,
   "metadata": {},
   "outputs": [],
   "source": [
    "%matplotlib inline\n",
    "import numpy as np\n",
    "import pandas as pd\n",
    "import os\n",
    "# image io and analysis\n",
    "import json\n",
    "import pims\n",
    "import trackpy as tp\n",
    "\n",
    "# plotting\n",
    "import matplotlib  as mpl \n",
    "import matplotlib.pyplot as plt \n",
    "\n",
    "#our packages\n",
    "from pharaglow import extract, util\n",
    "from pharaglow.util import smooth"
   ]
  },
  {
   "cell_type": "markdown",
   "metadata": {},
   "source": [
    "### Defining functions and dictionaries"
   ]
  },
  {
   "cell_type": "markdown",
   "metadata": {},
   "source": [
    "#### Defining functions to extract velocity, pumping and kymo"
   ]
  },
  {
   "cell_type": "code",
   "execution_count": 5,
   "metadata": {},
   "outputs": [],
   "source": [
    "def getVelocity(traj, umperPx, fps):\n",
    "    return np.sqrt((np.diff(traj['x'])**2+np.diff(traj['y'])**2))/np.diff(traj['frame'])*umperPx*fps\n",
    "\n",
    "def getPumps(traj):\n",
    "    return extract.bestMatchPeaks(traj['pumps'])\n",
    "\n",
    "def getKymo(df, key):\n",
    "    kymo = np.sum([np.array(list(filter(None.__ne__,row))) for row in df[key].values], axis=2)\n",
    "    kymo = np.array([np.interp(np.linspace(0, len(row), 100), np.arange(len(row)), np.array(row)) \\\n",
    "                      for row in kymo])\n",
    "    kymo = extract.alignKymos(kymo).T\n",
    "    return kymo"
   ]
  },
  {
   "cell_type": "markdown",
   "metadata": {},
   "source": [
    "#### Defining how Python reads in Pharaglow and lawn data"
   ]
  },
  {
   "cell_type": "code",
   "execution_count": 6,
   "metadata": {},
   "outputs": [
    {
     "ename": "SyntaxError",
     "evalue": "invalid syntax (<unknown>, line 1)",
     "output_type": "error",
     "traceback": [
      "Traceback \u001b[0;36m(most recent call last)\u001b[0m:\n",
      "  File \u001b[1;32m\"/home/nzjacic/.conda/envs/pumping/lib/python3.7/site-packages/IPython/core/interactiveshell.py\"\u001b[0m, line \u001b[1;32m3331\u001b[0m, in \u001b[1;35mrun_code\u001b[0m\n    exec(code_obj, self.user_global_ns, self.user_ns)\n",
      "  File \u001b[1;32m\"<ipython-input-6-750246909a87>\"\u001b[0m, line \u001b[1;32m1\u001b[0m, in \u001b[1;35m<module>\u001b[0m\n    get_ipython().run_cell_magic('time', '', \"def readData(dataFolder, umPerPx, fps, j = 0)#, nmax = None):\\n    df = {}\\n    lawnImages = {}\\n    path = os.path.dirname(dataFolder)\\n    for fn in os.listdir(path):\\n#         if nmax != None and len(df.keys())>nmax-1:\\n#             break\\n        file = os.path.join(path,fn)\\n        if os.path.isfile(file) and 'results_' in fn and fn.endswith('.json'):\\n            print('Reading', file)\\n            particle_index = int(fn.split('.')[0].split('_')[-1])\\n            traj =  pd.read_json(file, orient='split', numpy = True)\\n            # velocity\\n            t = traj['frame']/fps\\n            v = getVelocity(traj, umPerPx, fps)\\n            p, pump, pks, roc  = getPumps(traj)\\n            # interpolate the pumping rate\\n            pumpingrate = fps/np.diff(p)\\n            pumpInterp = np.interp(traj['frame'], p[:-1], pumpingrate, left = 0, right = 0)\\n            # get kymo\\n            kymo = getKymo(traj, 'Straightened')\\n            df[j] = {'time': t,\\n                     'x': traj['x'],\\n                     'y': traj['y'],\\n                             'velocity':v,\\n                             'peaks': p,\\n                             'pumpTrace':pump.values,\\n                             'pumpRate':pumpingrate,\\n                             'pumpInterpolated': pumpInterp,\\n                             'inside': traj['inside'],\\n                             'pid':particle_index,\\n                             'filename': fn,\\n                             'kymo': kymo\\n                                 }\\n            j +=1\\n    return df\\n\")\n",
      "  File \u001b[1;32m\"/home/nzjacic/.conda/envs/pumping/lib/python3.7/site-packages/IPython/core/interactiveshell.py\"\u001b[0m, line \u001b[1;32m2362\u001b[0m, in \u001b[1;35mrun_cell_magic\u001b[0m\n    result = fn(*args, **kwargs)\n",
      "  File \u001b[1;32m\"<decorator-gen-61>\"\u001b[0m, line \u001b[1;32m2\u001b[0m, in \u001b[1;35mtime\u001b[0m\n",
      "  File \u001b[1;32m\"/home/nzjacic/.conda/envs/pumping/lib/python3.7/site-packages/IPython/core/magic.py\"\u001b[0m, line \u001b[1;32m187\u001b[0m, in \u001b[1;35m<lambda>\u001b[0m\n    call = lambda f, *a, **k: f(*a, **k)\n",
      "  File \u001b[1;32m\"/home/nzjacic/.conda/envs/pumping/lib/python3.7/site-packages/IPython/core/magics/execution.py\"\u001b[0m, line \u001b[1;32m1268\u001b[0m, in \u001b[1;35mtime\u001b[0m\n    expr_ast = self.shell.compile.ast_parse(expr)\n",
      "\u001b[0;36m  File \u001b[0;32m\"/home/nzjacic/.conda/envs/pumping/lib/python3.7/site-packages/IPython/core/compilerop.py\"\u001b[0;36m, line \u001b[0;32m101\u001b[0;36m, in \u001b[0;35mast_parse\u001b[0;36m\u001b[0m\n\u001b[0;31m    return compile(source, filename, symbol, self.flags | PyCF_ONLY_AST, 1)\u001b[0m\n",
      "\u001b[0;36m  File \u001b[0;32m\"<unknown>\"\u001b[0;36m, line \u001b[0;32m1\u001b[0m\n\u001b[0;31m    def readData(dataFolder, umPerPx, fps, j = 0)#, nmax = None):\u001b[0m\n\u001b[0m                                                                 ^\u001b[0m\n\u001b[0;31mSyntaxError\u001b[0m\u001b[0;31m:\u001b[0m invalid syntax\n"
     ]
    }
   ],
   "source": [
    "%%time\n",
    "def readData(dataFolder, umPerPx, fps, j = 0):#, nmax = None):\n",
    "    df = {}\n",
    "    lawnImages = {}\n",
    "    path = os.path.dirname(dataFolder)\n",
    "    for fn in os.listdir(path):\n",
    "#         if nmax != None and len(df.keys())>nmax-1:\n",
    "#             break\n",
    "        file = os.path.join(path,fn)\n",
    "        if os.path.isfile(file) and 'results_' in fn and fn.endswith('.json'):\n",
    "            print('Reading', file)\n",
    "            particle_index = int(fn.split('.')[0].split('_')[-1])\n",
    "            traj =  pd.read_json(file, orient='split', numpy = True)\n",
    "            # velocity\n",
    "            t = traj['frame']/fps\n",
    "            v = getVelocity(traj, umPerPx, fps)\n",
    "            p, pump, pks, roc  = getPumps(traj)\n",
    "            # interpolate the pumping rate\n",
    "            pumpingrate = fps/np.diff(p)\n",
    "            pumpInterp = np.interp(traj['frame'], p[:-1], pumpingrate, left = 0, right = 0)\n",
    "            # get kymo\n",
    "            kymo = getKymo(traj, 'Straightened')\n",
    "            df[j] = {'time': t,\n",
    "                     'x': traj['x'],\n",
    "                     'y': traj['y'],\n",
    "                             'velocity':v,\n",
    "                             'peaks': p,\n",
    "                             'pumpTrace':pump.values,\n",
    "                             'pumpRate':pumpingrate,\n",
    "                             'pumpInterpolated': pumpInterp,\n",
    "                             'inside': traj['inside'],\n",
    "                             'pid':particle_index,\n",
    "                             'filename': fn,\n",
    "                             'kymo': kymo\n",
    "                                 }\n",
    "            j +=1\n",
    "    return df"
   ]
  },
  {
   "cell_type": "markdown",
   "metadata": {},
   "source": [
    "#### Reading in Pharaglow results for different strains/conditions"
   ]
  },
  {
   "cell_type": "code",
   "execution_count": null,
   "metadata": {},
   "outputs": [],
   "source": [
    "%%time\n",
    "\n",
    "# Making dictionary combining data with strain name in their separate master folders\n",
    "Data = {}\n",
    "for strainName, folder in zip(strains, directories):\n",
    "    Data[strainName] = readData(folder, umPerPx, fps)#, nmax = 1)"
   ]
  },
  {
   "cell_type": "markdown",
   "metadata": {},
   "source": [
    "## Plotting (user input required)"
   ]
  },
  {
   "cell_type": "code",
   "execution_count": null,
   "metadata": {},
   "outputs": [],
   "source": [
    "# ASSIGNING TIME BEFORE ENTRY (dt) AND TIME AFTER ENTRY (da) INTO THE LAWN\n",
    "dt = 900\n",
    "da = 300\n",
    "\n",
    "# setting up GridSpec\n",
    "f1 = plt.figure(figsize = (16,12))\n",
    "grid = mpl.gridspec.GridSpec(ncols=2, nrows = len(strains), hspace = 0.3)\n",
    "\n",
    "# SETTING UP SUBPLOTS - ADD TO AS NUMBER OF STRAINS INCREASE\n",
    "# (a) velocity\n",
    "ax1a = f1.add_subplot(grid[0,0])\n",
    "ax2a = f1.add_subplot(grid[1,0])\n",
    "ax3a = f1.add_subplot(grid[2,0])\n",
    "axa = [ax1a, ax2a, ax3a]\n",
    "# (b) pumping\n",
    "ax1b = f1.add_subplot(grid[0,1])\n",
    "ax2b = f1.add_subplot(grid[1,1])\n",
    "ax3b = f1.add_subplot(grid[2,1])\n",
    "axb = [ax1b, ax2b, ax3b]\n",
    "\n",
    "# axes dictionary\n",
    "axes = {\n",
    "    'xlabel':'Time(s)',\n",
    "    'ylabelv':'Velocity (um/s)',\n",
    "    'ylabelp':'Pumping rate (Hz)'\n",
    "}\n",
    "\n",
    "# plotting velocity and pumping\n",
    "if lawn is 'Yes':\n",
    "    # goes through each condition\n",
    "    for ci, condition in enumerate(Data.keys()):\n",
    "        print('Beginning analysis for', condition+':')\n",
    "        # lists needed for plotting\n",
    "        cutVelocities = []\n",
    "        pumpingrates = []\n",
    "        pumpingInterp = []\n",
    "        # goes through each worm\n",
    "        for idx in Data[condition].keys():\n",
    "            f = (Data[condition][idx]['inside']).mean()\n",
    "            if f<0.9 and f>0.01:\n",
    "                t0 = np.where(Data[condition][idx]['inside'] ==1)[0][0]\n",
    "                if t0>dt and t0-dt>0 and t0+da<len(Data[condition][idx]['time']):\n",
    "                    print(condition, 'trajectory', idx)\n",
    "                    # velocity variables\n",
    "                    time = np.linspace(0, (dt+da)/fps, dt+da)\n",
    "                    cutVelocities.append(Data[condition][idx]['velocity'][t0-dt:t0+da])\n",
    "                    # pumping variables\n",
    "                    pumpingrates.append(Data[condition][idx]['pumpInterpolated'][t0-dt:t0+da])\n",
    "        print ('Plotting', condition+'...')\n",
    "        # average velocity across all trajectories and all movies per strain\n",
    "        mv, sv = np.mean(np.array(cutVelocities), axis =0), np.std(np.array(cutVelocities), axis =0)\n",
    "        axa[ci].plot(time, mv, color = colors[condition], alpha = 0.7)\n",
    "        axa[ci].fill_between(np.arange(len(mv))/fps, mv-sv, mv+sv, \n",
    "                             color = 'gray', alpha = 0.3)\n",
    "        # making it pretty\n",
    "        axa[ci].axvline(x = dt/fps, color = 'black', dashes = (5, 2))\n",
    "        axa[ci].set_ylabel(axes['ylabelv'])\n",
    "        axa[ci].set_xlabel(axes['xlabel'])\n",
    "        axa[ci].set_ylim(0,250)\n",
    "        # average pumping rate across all trajectories and all movies per strain\n",
    "        mp, sp = np.mean(np.array(pumpingrates), axis =0), np.std(np.array(pumpingrates), axis =0)\n",
    "        axb[ci].plot(time, mp, color = colors[condition], alpha = 0.5)\n",
    "        axb[ci].fill_between(np.arange(len(mp))/fps, mp-sp, mp+sp, \n",
    "                 color = 'gray', alpha = 0.3)\n",
    "        axb[ci].plot(time, smooth(np.array(pumpingrates[-1]), 50), 'black', lw =2)\n",
    "        axb[ci].axvline(x = dt/fps, color = 'black', dashes = (5, 2))\n",
    "        axb[ci].set_ylabel(axes['ylabelp'])\n",
    "        axb[ci].set_xlabel(axes['xlabel'])\n",
    "        axb[ci].set_ylim(0,6)\n",
    "# adding titles\n",
    "ax1a.set_title('Average Velocity of Trajectories per Video')\n",
    "ax1b.set_title('Pumping Rate (Hz) of Trajectories per Video')\n",
    "\n",
    "print('Ta da!')\n",
    "\n",
    "# OPTIONAL - save figure\n",
    "# plt.savefig(figurename)"
   ]
  },
  {
   "cell_type": "code",
   "execution_count": null,
   "metadata": {},
   "outputs": [],
   "source": []
  }
 ],
 "metadata": {
  "kernelspec": {
   "display_name": "Python 3",
   "language": "python",
   "name": "python3"
  },
  "language_info": {
   "codemirror_mode": {
    "name": "ipython",
    "version": 3
   },
   "file_extension": ".py",
   "mimetype": "text/x-python",
   "name": "python",
   "nbconvert_exporter": "python",
   "pygments_lexer": "ipython3",
   "version": "3.7.7"
  }
 },
 "nbformat": 4,
 "nbformat_minor": 2
}
