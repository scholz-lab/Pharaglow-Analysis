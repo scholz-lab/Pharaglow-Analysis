{
 "cells": [
  {
   "cell_type": "markdown",
   "metadata": {},
   "source": [
    "# Velocity and pumping diagnostics after PharaGlow analysis"
   ]
  },
  {
   "cell_type": "markdown",
   "metadata": {},
   "source": [
    "## Changing names (user input required)"
   ]
  },
  {
   "cell_type": "markdown",
   "metadata": {},
   "source": [
    "#### Strain directories"
   ]
  },
  {
   "cell_type": "code",
   "execution_count": 3,
   "metadata": {},
   "outputs": [
    {
     "name": "stdout",
     "output_type": "stream",
     "text": [
      "Is there a lawn? Yes\n",
      "fps: 30\n"
     ]
    }
   ],
   "source": [
    "# ADD DIRECTORY OF STRAIN MASTER FOLDER(S)\n",
    "ctrl = \"\"\n",
    "INF100 = \"\"\n",
    "INF102 = \"\"\n",
    "\n",
    "# FINAL FIGURE NAME AND DIRECTORY (figure name MUST have .pdf at the end) - if not changed the previous figure\n",
    "# WILL be erased so be careful!\n",
    "figurename = \"/home/nzjacic/Desktop/10x_concentration_diagnostics.pdf\""
   ]
  },
  {
   "cell_type": "markdown",
   "metadata": {},
   "source": [
    "#### Dictionary linking strain names to their folders and graph colors"
   ]
  },
  {
   "cell_type": "code",
   "execution_count": null,
   "metadata": {},
   "outputs": [],
   "source": [
    "# ADD STRAIN NAMES AND THEIR RESPECTIVE COLORS AS DIRECTORIES INCREASE - can leave axes alone\n",
    "# if a syntax error comes up it's probably because you forgot to add a comma after the previous strain name\n",
    "dicts = {    \n",
    "    wormStrains = {\n",
    "        'Control':ctrl,\n",
    "        'INF100':INF100,\n",
    "        'INF102':INF102\n",
    "    }\n",
    "    colors = {\n",
    "        'INF100':'red',\n",
    "        'Control':'blue',\n",
    "        'INF102' :'green'\n",
    "    }\n",
    "    axes = {\n",
    "        'xlabel':'Time(s)',\n",
    "        'ylabelv':'Velocity (um/s)',\n",
    "        'ylabelp':'Pumping rate (Hz)'\n",
    "    }\n",
    "}"
   ]
  },
  {
   "cell_type": "markdown",
   "metadata": {},
   "source": [
    "#### Variables"
   ]
  },
  {
   "cell_type": "code",
   "execution_count": null,
   "metadata": {},
   "outputs": [],
   "source": [
    "# # NUMBER OF ROWS IN FIGURE - CHANGE TO TOTAL NUMBER OF STRAINS\n",
    "# figRows = 3\n",
    "\n",
    "# IS THERE A LAWN?\n",
    "lawn = 'Yes' #or 'No'\n",
    "\n",
    "# FPS?\n",
    "fps = 30\n",
    "\n",
    "# HOW MANY MICRONS PER PIXEL?\n",
    "umPerPx = 2.34"
   ]
  },
  {
   "cell_type": "markdown",
   "metadata": {},
   "source": [
    "## Extracting velocity and pumping information"
   ]
  },
  {
   "cell_type": "markdown",
   "metadata": {},
   "source": [
    "### Importing packages"
   ]
  },
  {
   "cell_type": "code",
   "execution_count": 2,
   "metadata": {},
   "outputs": [],
   "source": [
    "%matplotlib inline\n",
    "import numpy as np\n",
    "import pandas as pd\n",
    "import os\n",
    "# image io and analysis\n",
    "import json\n",
    "import pims\n",
    "import trackpy as tp\n",
    "\n",
    "# plotting\n",
    "import matplotlib  as mpl \n",
    "import matplotlib.pyplot as plt \n",
    "\n",
    "#our packages\n",
    "from pharaglow import extract, util\n",
    "from pharaglow.util import smooth"
   ]
  },
  {
   "cell_type": "markdown",
   "metadata": {},
   "source": [
    "### Defining functions and dictionaries"
   ]
  },
  {
   "cell_type": "markdown",
   "metadata": {},
   "source": [
    "#### Defining functions to extract velocity, pumping and kymo"
   ]
  },
  {
   "cell_type": "code",
   "execution_count": 5,
   "metadata": {},
   "outputs": [],
   "source": [
    "def getVelocity(traj, umperPx, fps):\n",
    "    return np.sqrt((np.diff(traj['x'])**2+np.diff(traj['y'])**2))/np.diff(traj['frame'])*umperPx*fps\n",
    "\n",
    "def getPumps(traj):\n",
    "    return extract.bestMatchPeaks(traj['pumps'])\n",
    "\n",
    "def getKymo(df, key):\n",
    "    kymo = np.sum([np.array(list(filter(None.__ne__,row))) for row in df[key].values], axis=2)\n",
    "    kymo = np.array([np.interp(np.linspace(0, len(row), 100), np.arange(len(row)), np.array(row)) \\\n",
    "                      for row in kymo])\n",
    "    kymo = extract.alignKymos(kymo).T\n",
    "    return kymo"
   ]
  },
  {
   "cell_type": "markdown",
   "metadata": {},
   "source": [
    "#### Defining how Python reads in Pharaglow and lawn data"
   ]
  },
  {
   "cell_type": "code",
   "execution_count": 17,
   "metadata": {},
   "outputs": [
    {
     "name": "stdout",
     "output_type": "stream",
     "text": [
      "CPU times: user 9 µs, sys: 0 ns, total: 9 µs\n",
      "Wall time: 15.3 µs\n"
     ]
    }
   ],
   "source": [
    "%%time\n",
    "def readData(dataFolder, umPerPx, fps, j = 0), nmax = None):\n",
    "    df = {}\n",
    "    lawnImages = {}\n",
    "    path = os.path.dirname(dataFolder)\n",
    "    for fn in os.listdir(path):\n",
    "        if nmax != None and len(df.keys())>nmax-1:\n",
    "            break\n",
    "        file = os.path.join(path,fn)\n",
    "        if os.path.isfile(file) and 'results_' in fn and fn.endswith('.json'):\n",
    "            print('Reading', file)\n",
    "            particle_index = int(fn.split('.')[0].split('_')[-1])\n",
    "            traj =  pd.read_json(file, orient='split', numpy = True)\n",
    "            # velocity\n",
    "            t = traj['frame']/fps\n",
    "            v = getVelocity(traj, umPerPx, fps)\n",
    "            p, pump, pks, roc  = getPumps(traj)\n",
    "            # interpolate the pumping rate\n",
    "            pumpingrate = fps/np.diff(p)\n",
    "            pumpInterp = np.interp(traj['frame'], p[:-1], pumpingrate, left = 0, right = 0)\n",
    "            # get kymo\n",
    "            kymo = getKymo(traj, 'Straightened')\n",
    "            df[j] = {'time': t,\n",
    "                     'x': traj['x'],\n",
    "                     'y': traj['y'],\n",
    "                             'velocity':v,\n",
    "                             'peaks': p,\n",
    "                             'pumpTrace':pump.values,\n",
    "                             'pumpRate':pumpingrate,\n",
    "                             'pumpInterpolated': pumpInterp,\n",
    "                             'inside': traj['inside'],\n",
    "                             'pid':particle_index,\n",
    "                             'filename': fn,\n",
    "                             'kymo': kymo\n",
    "                                 }\n",
    "            j +=1\n",
    "    return df"
   ]
  },
  {
   "cell_type": "markdown",
   "metadata": {},
   "source": [
    "#### Reading in Pharaglow results for different strains/conditions"
   ]
  },
  {
   "cell_type": "code",
   "execution_count": 18,
   "metadata": {},
   "outputs": [
    {
     "name": "stdout",
     "output_type": "stream",
     "text": [
      "Reading /media/scholz_la/hd2/Nicolina/Pharaglow/Old_files/Pharaglow_v5/10x_GRU101_RFP_24hr/test/20200320_NZ0045_test_results_0.json\n"
     ]
    },
    {
     "name": "stderr",
     "output_type": "stream",
     "text": [
      "/home/nzjacic/.conda/envs/pumping/lib/python3.7/site-packages/ipykernel_launcher.py:12: FutureWarning: the 'numpy' keyword is deprecated and will be removed in a future version. Please take steps to stop the use of 'numpy'\n",
      "  if sys.path[0] == '':\n"
     ]
    },
    {
     "name": "stdout",
     "output_type": "stream",
     "text": [
      "Reading /media/scholz_la/hd2/Nicolina/Pharaglow/Old_files/Pharaglow_v5/10x_GRU101_RFP_24hr/test/20200320_NZ0045_test_results_1.json\n",
      "Reading /media/scholz_la/hd2/Nicolina/Pharaglow/Old_files/Pharaglow_v5/10x_INF100/20200326_NZ0046_test_results_0.json\n",
      "Reading /media/scholz_la/hd2/Nicolina/Pharaglow/Old_files/Pharaglow_v5/10x_INF100/20200326_NZ0046_test_results_1.json\n",
      "CPU times: user 1min 10s, sys: 6.51 s, total: 1min 16s\n",
      "Wall time: 1min 16s\n"
     ]
    }
   ],
   "source": [
    "%%time\n",
    "\n",
    "# Making dictionary combining data with strain name in their separate master folders\n",
    "Data = {}\n",
    "for strainName, folder in dicts[wormStrains]:\n",
    "    Data[strainName] = readData(folder, umPerPx, fps, nmax = 1)"
   ]
  },
  {
   "cell_type": "markdown",
   "metadata": {},
   "source": [
    "## Plotting (user input required)"
   ]
  },
  {
   "cell_type": "code",
   "execution_count": 2,
   "metadata": {},
   "outputs": [
    {
     "ename": "NameError",
     "evalue": "name 'plt' is not defined",
     "output_type": "error",
     "traceback": [
      "\u001b[0;31m---------------------------------------------------------------------------\u001b[0m",
      "\u001b[0;31mNameError\u001b[0m                                 Traceback (most recent call last)",
      "\u001b[0;32m<ipython-input-2-819f44016bc6>\u001b[0m in \u001b[0;36m<module>\u001b[0;34m\u001b[0m\n\u001b[1;32m     15\u001b[0m \u001b[0mda\u001b[0m \u001b[0;34m=\u001b[0m \u001b[0;36m300\u001b[0m\u001b[0;34m\u001b[0m\u001b[0;34m\u001b[0m\u001b[0m\n\u001b[1;32m     16\u001b[0m \u001b[0;31m# change number of rows to the number of strains\u001b[0m\u001b[0;34m\u001b[0m\u001b[0;34m\u001b[0m\u001b[0;34m\u001b[0m\u001b[0m\n\u001b[0;32m---> 17\u001b[0;31m \u001b[0mf1\u001b[0m \u001b[0;34m=\u001b[0m \u001b[0mplt\u001b[0m\u001b[0;34m.\u001b[0m\u001b[0mfigure\u001b[0m\u001b[0;34m(\u001b[0m\u001b[0mfigsize\u001b[0m \u001b[0;34m=\u001b[0m \u001b[0;34m(\u001b[0m\u001b[0;36m16\u001b[0m\u001b[0;34m,\u001b[0m\u001b[0;36m8\u001b[0m\u001b[0;34m)\u001b[0m\u001b[0;34m)\u001b[0m\u001b[0;34m\u001b[0m\u001b[0;34m\u001b[0m\u001b[0m\n\u001b[0m\u001b[1;32m     18\u001b[0m \u001b[0mgrid\u001b[0m \u001b[0;34m=\u001b[0m \u001b[0mmpl\u001b[0m\u001b[0;34m.\u001b[0m\u001b[0mgridspec\u001b[0m\u001b[0;34m.\u001b[0m\u001b[0mGridSpec\u001b[0m\u001b[0;34m(\u001b[0m\u001b[0mncols\u001b[0m\u001b[0;34m=\u001b[0m\u001b[0;36m2\u001b[0m\u001b[0;34m,\u001b[0m \u001b[0mnrows\u001b[0m \u001b[0;34m=\u001b[0m\u001b[0;36m3\u001b[0m\u001b[0;34m)\u001b[0m\u001b[0;34m\u001b[0m\u001b[0;34m\u001b[0m\u001b[0m\n\u001b[1;32m     19\u001b[0m \u001b[0;31m# setting up subplots for velocity (a) and pumping (b) - add as number of strains increase\u001b[0m\u001b[0;34m\u001b[0m\u001b[0;34m\u001b[0m\u001b[0;34m\u001b[0m\u001b[0m\n",
      "\u001b[0;31mNameError\u001b[0m: name 'plt' is not defined"
     ]
    }
   ],
   "source": [
    "# ASSIGNING TIME BEFORE ENTRY (dt) AND TIME AFTER ENTRY (da) INTO THE LAWN\n",
    "dt = 500#1200\n",
    "da = 100#300\n",
    "\n",
    "# setting up GridSpec\n",
    "f1 = plt.figure(figsize = (16,12))\n",
    "grid = mpl.gridspec.GridSpec(ncols=2, nrows = len(dicts[wormStrains]), hspace = 0.3)\n",
    "\n",
    "# SETTING UP SUBPLOTS - ADD TO AS NUMBER OF STRAINS INCREASE\n",
    "# (a) velocity\n",
    "ax1a = f1.add_subplot(grid[0,0])\n",
    "ax2a = f1.add_subplot(grid[1,0])\n",
    "ax3a = f1.add_subplot(grid[2,0])\n",
    "axa = [ax1a, ax2a, ax2b]\n",
    "# (b) pumping\n",
    "ax1b = f1.add_subplot(grid[0,1])\n",
    "ax2b = f1.add_subplot(grid[1,1])\n",
    "ax3b = f1.add_subplot(grid[2,1])\n",
    "axb = [ax1b, ax2b, ax3b]\n",
    "\n",
    "# plotting velocity and pumping\n",
    "if lawn is 'Yes':\n",
    "    # goes through each condition\n",
    "    for ci, condition in enumerate(Data.keys()):\n",
    "        print('Beginning analysis for', condition+':')\n",
    "        # lists needed for plotting\n",
    "        cutVelocities = []\n",
    "        pumpingrates = []\n",
    "        pumpingInterp = []\n",
    "        # goes through each worm\n",
    "        for idx in Data[condition].keys():\n",
    "            f = (Data[condition][idx]['inside']).mean()\n",
    "            if f<0.9 and f>0.01:\n",
    "                t0 = np.where(Data[condition][idx]['inside'] ==1)[0][0]\n",
    "                if t0>dt and t0-dt>0 and t0+da<len(Data[condition][idx]['time']):\n",
    "                    print(condition, 'trajectory', idx)\n",
    "                    # velocity variables\n",
    "                    time = np.linspace(0, (dt+da)/fps, dt+da)\n",
    "                    cutVelocities.append(Data[condition][idx]['velocity'][t0-dt:t0+da])\n",
    "                    # pumping variables\n",
    "                    pumpingrates.append(Data[condition][idx]['pumpInterpolated'][t0-dt:t0+da])\n",
    "        print ('Plotting', condition+'...')\n",
    "        # average velocity across all trajectories and all movies per strain\n",
    "        mv, sv = np.mean(np.array(cutVelocities), axis =0), np.std(np.array(cutVelocities), axis =0)\n",
    "        axa[ci].plot(time, mv, color = dicts[colors][condition], alpha = 0.7)\n",
    "        axa[ci].fill_between(np.arange(len(mv))/fps, mv-sv, mv+sv, \n",
    "                             color = 'gray', alpha = 0.3)\n",
    "        # making it pretty\n",
    "        axa[ci].axvline(x = dt/fps, color = 'black', dashes = (5, 2))\n",
    "        axa[ci].set_ylabel(dicts[axes]['ylabelv'])\n",
    "        axa[ci].set_xlabel(dicts[axes]['xlabel'])\n",
    "        axa[ci].set_ylim(0,250)\n",
    "        # average pumping rate across all trajectories and all movies per strain\n",
    "        mp, sp = np.mean(np.array(pumpingrates), axis =0), np.std(np.array(pumpingrates), axis =0)\n",
    "        axb[ci].plot(time, mp, color = dicts[colors][condition], alpha = 0.5)\n",
    "        axb[ci].fill_between(np.arange(len(mp))/fps, mp-sp, mp+sp, \n",
    "                 color = 'gray', alpha = 0.3)\n",
    "        axb[ci].plot(time, smooth(np.array(pumpingrates[-1]), 30), 'black', lw =2)\n",
    "        axb[ci].axvline(x = dt/fps, color = 'black', dashes = (5, 2))\n",
    "        axb[ci].set_ylabel(dicts[axes]['ylabelp'])\n",
    "        axb[ci].set_xlabel(dicts[axes]['xlabel'])\n",
    "        axb[ci].set_ylim(0,6)\n",
    "# adding titles\n",
    "ax1a.set_title('Average Velocity of Trajectories per Video')\n",
    "ax1b.set_title('Pumping Rate (Hz) of Trajectories per Video')\n",
    "\n",
    "print('Ta da!')\n",
    "\n",
    "# OPTIONAL - save figure\n",
    "# plt.savefig(figurename)"
   ]
  }
 ],
 "metadata": {
  "kernelspec": {
   "display_name": "Python 3",
   "language": "python",
   "name": "python3"
  },
  "language_info": {
   "codemirror_mode": {
    "name": "ipython",
    "version": 3
   },
   "file_extension": ".py",
   "mimetype": "text/x-python",
   "name": "python",
   "nbconvert_exporter": "python",
   "pygments_lexer": "ipython3",
   "version": "3.7.7"
  }
 },
 "nbformat": 4,
 "nbformat_minor": 2
}
