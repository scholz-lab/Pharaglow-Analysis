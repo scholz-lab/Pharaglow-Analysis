{
 "cells": [
  {
   "cell_type": "markdown",
   "metadata": {},
   "source": [
    "# Velocity and pumping diagnostics after PharaGlow analysis (for videos without lawns)"
   ]
  },
  {
   "cell_type": "markdown",
   "metadata": {},
   "source": [
    "## Changing names (user input required)"
   ]
  },
  {
   "cell_type": "markdown",
   "metadata": {},
   "source": [
    "#### Strain directories"
   ]
  },
  {
   "cell_type": "code",
   "execution_count": 1,
   "metadata": {},
   "outputs": [],
   "source": [
    "# ADD DIRECTORY OF STRAIN MASTER FOLDER(S)\n",
    "nl_nosmell = '/media/soma/Nicolina/GRU101/No_lawn/No_smell/'\n",
    "nl_5min = '/media/soma/Nicolina/GRU101/No_lawn/Smell_5min/'\n",
    "nl_30min = '/media/soma/Nicolina/GRU101/No_lawn/Smell_30min/'\n",
    "\n",
    "# FINAL FIGURE NAME AND DIRECTORY (figure name MUST have .pdf at the end) - if not changed then the previous figure\n",
    "# WILL be erased so be careful!\n",
    "hist_name = \"/home/nzjacic/Desktop/Diagnostics/Figures/Analysis_2/Nolawn_{}_diagnostics_average.pdf\""
   ]
  },
  {
   "cell_type": "markdown",
   "metadata": {},
   "source": [
    "#### Dictionary linking strain names to their folders and graph colors"
   ]
  },
  {
   "cell_type": "code",
   "execution_count": 2,
   "metadata": {},
   "outputs": [],
   "source": [
    "# ADD STRAIN NAMES\n",
    "strains = ['no_smell', '5min_smell', '30min_smell']\n",
    "\n",
    "# ADD DIRECTORY VARIABLE\n",
    "directories = [nl_nosmell, nl_5min, nl_30min]\n",
    "\n",
    "# ADD COLORS\n",
    "# if a syntax error comes up it's probably because you forgot to add a comma after the previous strain name\n",
    "colors = {\n",
    "        'no_smell': 'xkcd:lavender',\n",
    "        '5min_smell': 'xkcd:salmon',\n",
    "        '30min_smell': 'xkcd:teal'\n",
    "    }"
   ]
  },
  {
   "cell_type": "markdown",
   "metadata": {},
   "source": [
    "#### Variables"
   ]
  },
  {
   "cell_type": "code",
   "execution_count": 3,
   "metadata": {},
   "outputs": [],
   "source": [
    "# FPS?\n",
    "fps = 30\n",
    "\n",
    "# HOW MANY MICRONS PER PIXEL?\n",
    "umPerPx = 2.34"
   ]
  },
  {
   "cell_type": "markdown",
   "metadata": {},
   "source": [
    "## Extracting velocity and pumping information"
   ]
  },
  {
   "cell_type": "markdown",
   "metadata": {},
   "source": [
    "### Importing packages"
   ]
  },
  {
   "cell_type": "code",
   "execution_count": 4,
   "metadata": {},
   "outputs": [],
   "source": [
    "%matplotlib inline\n",
    "import numpy as np\n",
    "import pandas as pd\n",
    "import os\n",
    "import pickle\n",
    "# image io and analysis\n",
    "import json\n",
    "import pims\n",
    "import trackpy as tp\n",
    "\n",
    "# plotting\n",
    "import matplotlib  as mpl \n",
    "import matplotlib.pyplot as plt \n",
    "\n",
    "#our packages\n",
    "from pharaglow import extract, util\n",
    "from pharaglow.util import smooth"
   ]
  },
  {
   "cell_type": "markdown",
   "metadata": {},
   "source": [
    "### Defining functions and dictionaries"
   ]
  },
  {
   "cell_type": "markdown",
   "metadata": {},
   "source": [
    "#### Defining functions to extract velocity, pumping and kymo"
   ]
  },
  {
   "cell_type": "code",
   "execution_count": 5,
   "metadata": {},
   "outputs": [],
   "source": [
    "def getVelocity(traj, umperPx, fps):\n",
    "    return np.sqrt((np.diff(traj['x'])**2+np.diff(traj['y'])**2))/np.diff(traj['frame'])*umperPx*fps\n",
    "\n",
    "def getPumps(pumps, ws = 30, prs = np.linspace(0.5,0.95,50) ):\n",
    "    return extract.bestMatchPeaks(pumps, ws, prs)\n",
    "\n",
    "def getKymo(df, key):\n",
    "    kymo = np.sum([np.array(list(filter(None.__ne__,row))) for row in df[key].values], axis=2)\n",
    "    kymo = np.array([np.interp(np.linspace(0, len(row), 100), np.arange(len(row)), np.array(row)) \\\n",
    "                      for row in kymo])\n",
    "    kymo = extract.alignKymos(kymo).T\n",
    "    return kymo"
   ]
  },
  {
   "cell_type": "markdown",
   "metadata": {},
   "source": [
    "#### Defining how Python reads in Pharaglow and lawn data"
   ]
  },
  {
   "cell_type": "code",
   "execution_count": 6,
   "metadata": {},
   "outputs": [],
   "source": [
    "def getVelocity(traj, umperPx, fps):\n",
    "    return np.sqrt((np.diff(traj['x'])**2+np.diff(traj['y'])**2))/np.diff(traj['frame'])*umperPx*fps\n",
    "\n",
    "def getPumps(pumps, wsDetrend = 300 , wsOutlier = 300, wsDetrendLocal = 30, prs = np.linspace(0.5,0.95,50) ):\n",
    "    return extract.bestMatchPeaks(pumps, wsDetrend = 300 , wsOutlier = 300, wsDetrendLocal = 30, prs = prs)\n",
    "\n",
    "def getKymo(df, key):\n",
    "    kymo = np.sum([np.array(list(filter(None.__ne__,row))) for row in df[key].values], axis=2)\n",
    "    kymo = np.array([np.interp(np.linspace(0, len(row), 100), np.arange(len(row)), np.array(row)) \\\n",
    "                      for row in kymo])\n",
    "    kymo = extract.alignKymos(kymo).T\n",
    "    return kymo\n",
    "\n",
    "def readData(dataFolder, umPerPx, fps, j = 0, nmax = None):\n",
    "    df = {}\n",
    "    path = os.path.dirname(dataFolder)\n",
    "    for fn in os.listdir(path):\n",
    "        if nmax != None and len(df.keys())>nmax-1:\n",
    "            break\n",
    "        file = os.path.join(path,fn)\n",
    "        if os.path.isfile(file) and 'results_' in fn and fn.endswith('.json'):\n",
    "            print('Reading', file)\n",
    "            particle_index = int(fn.split('.')[0].split('_')[-1])\n",
    "            traj =  pd.read_json(file, orient='split', numpy = True)\n",
    "            # velocity\n",
    "            t = traj['frame']/fps\n",
    "            v = getVelocity(traj, umPerPx, fps)\n",
    "            # pumping related data\n",
    "            kymo = getKymo(traj, 'Straightened')\n",
    "            rawPump = [-np.max(np.std(sIm, axis =1), axis =0) for sIm in traj['Straightened']]\n",
    "            traj['pump'] = rawPump\n",
    "            prs =  np.linspace(0.15,1.00,50)\n",
    "            p, pump, pks, roc, metric  = getPumps(traj['pump'].values, prs = prs)\n",
    "            #plotPumpAnalysis(pump, pks, roc, prs, time = traj['frame'], metric=metric)\n",
    "            pinterp = np.interp(traj['frame'], p[:-1]+traj['frame'].iloc[0], fps/np.diff(p))\n",
    "            # get a binary trace where pumps are 1 and non-pumps are 0\n",
    "            tmp = np.zeros(len(t))\n",
    "            tmp[p] = 1\n",
    "            \n",
    "            df[j] = {'time': t.values,\n",
    "                     'x': traj['x'].values,\n",
    "                     'y': traj['y'].values,\n",
    "                             'velocity':v,\n",
    "                             'peaks': p.values,\n",
    "                             'pumpTrace':pump,\n",
    "                             'binaryPumps': tmp,\n",
    "                             'pumpInterp': pinterp,\n",
    "                             'pid':particle_index,\n",
    "                             'filename': fn,\n",
    "                             'kymo': kymo,\n",
    "                             'fps': fps,\n",
    "                             'scale':umPerPx\n",
    "                            }\n",
    "            j +=1\n",
    "    return df"
   ]
  },
  {
   "cell_type": "markdown",
   "metadata": {},
   "source": [
    "#### Defining histogram plotting function"
   ]
  },
  {
   "cell_type": "code",
   "execution_count": 31,
   "metadata": {},
   "outputs": [],
   "source": [
    "def graphingNolawn(Data, condition, plotpath, save = 'Yes'):\n",
    "    # setting up Grid plot\n",
    "    f1 = plt.figure(figsize = (16,8))\n",
    "    grid = mpl.gridspec.GridSpec(ncols=2, nrows =1)\n",
    "    ax1 = f1.add_subplot(grid[:,0]) \n",
    "    ax2 = f1.add_subplot(grid[:,1])\n",
    "    # extracting histogram information\n",
    "    pr, v = [], []\n",
    "    for idx in Data.keys():\n",
    "        print(Data[idx]['filename'])\n",
    "        tmp = Data[idx]['pumpInterp']\n",
    "        pr.append(tmp)\n",
    "        v.append(Data[idx]['velocity'])\n",
    "    pr = np.concatenate(pr, axis = None)\n",
    "#     print(len(pr))\n",
    "    v = np.concatenate(v, axis = None)\n",
    "#     print(len(v))\n",
    "    binspr = np.linspace(0,6,15)\n",
    "    binsv = np.linspace(0, 400, 50)\n",
    "    # pumping rate\n",
    "    #histpr = np.histogram(pr, bins, color = colors[condition], density=True)\n",
    "    ax1.hist(pr, binspr, color = colors[condition], density = True)\n",
    "    #ax1.hist(histpr, bins)\n",
    "    # velocity\n",
    "    #histv = np.histogram(v, bins, color = colors[condition], density=True)\n",
    "    ax2.hist(v, binsv, color = colors[condition], density = True)\n",
    "    #ax2.hist(histv, bins)\n",
    "    print ('Plotting', condition+'...')\n",
    "    ax1.set_xlabel('Pumping rate (Hz)')\n",
    "    ax1.set_ylabel('PDF')\n",
    "    ax1.set_ylim(0,0.50)\n",
    "    ax2.set_ylabel('PDF')\n",
    "    ax2.set_xlabel('Velocity (um/s)')\n",
    "    ax2.set_ylim(0,0.007)\n",
    "    # saving data variable\n",
    "    plotpath = plotpath.format(condition)\n",
    "    print('Ta da!')\n",
    "    # OPTIONAL - save figure\n",
    "    if save == 'Yes':\n",
    "        print(plotpath)\n",
    "        plt.savefig(plotpath)\n",
    "    else:\n",
    "        print('Not saved')"
   ]
  },
  {
   "cell_type": "markdown",
   "metadata": {},
   "source": [
    "#### Defining saving and loading process"
   ]
  },
  {
   "cell_type": "code",
   "execution_count": 8,
   "metadata": {},
   "outputs": [],
   "source": [
    "def readPharaglow(strains, directories, index, save=True):\n",
    "    Data = readData(directories[index], umPerPx, fps, nmax = None)\n",
    "    if save:\n",
    "        saveData = open(f'/home/nzjacic/Desktop/Diagnostics/Saved_data/Analysis_2/{strains[index]}', 'wb')\n",
    "        pickle.dump(Data, saveData)\n",
    "        saveData.close()"
   ]
  },
  {
   "cell_type": "code",
   "execution_count": 9,
   "metadata": {},
   "outputs": [],
   "source": [
    "def loadPharaglow(strains, directories, index):\n",
    "    saveData = open(f'/home/nzjacic/Desktop/Diagnostics/Saved_data/Analysis_2/{strains[index]}', 'rb')\n",
    "    Data = pickle.load(saveData)\n",
    "    saveData.close()\n",
    "    return Data"
   ]
  },
  {
   "cell_type": "markdown",
   "metadata": {},
   "source": [
    "### Reading and Graphing (add as strains increase)"
   ]
  },
  {
   "cell_type": "markdown",
   "metadata": {},
   "source": [
    "#### No smell patch"
   ]
  },
  {
   "cell_type": "code",
   "execution_count": 10,
   "metadata": {},
   "outputs": [],
   "source": [
    "# readPharaglow(strains, directories, index=0)"
   ]
  },
  {
   "cell_type": "code",
   "execution_count": 32,
   "metadata": {},
   "outputs": [
    {
     "name": "stdout",
     "output_type": "stream",
     "text": [
      "NZ0197_results_6.json\n",
      "NZ0189_results_2.json\n",
      "NZ0197_results_11.json\n",
      "NZ0189_results_40.json\n",
      "NZ0189_results_39.json\n",
      "NZ0197_results_3.json\n",
      "NZ0197_results_4.json\n",
      "NZ0189_results_23.json\n",
      "NZ0189_results_22.json\n",
      "NZ0197_results_5.json\n",
      "NZ0197_results_10.json\n",
      "NZ0189_results_44.json\n",
      "NZ0189_results_618.json\n",
      "NZ0189_results_56.json\n",
      "NZ0189_results_24.json\n",
      "NZ0197_results_2.json\n",
      "NZ0189_results_0.json\n",
      "NZ0189_results_50.json\n",
      "NZ0189_results_35.json\n",
      "NZ0197_results_0.json\n",
      "NZ0189_results_1.json\n",
      "NZ0189_results_21.json\n",
      "NZ0189_results_12.json\n",
      "NZ0189_results_7.json\n",
      "Plotting no_smell...\n",
      "Ta da!\n",
      "/home/nzjacic/Desktop/Diagnostics/Figures/Analysis_2/Nolawn_no_smell_diagnostics_average.pdf\n"
     ]
    },
    {
     "data": {
      "image/png": "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\n",
      "text/plain": [
       "<Figure size 1152x576 with 2 Axes>"
      ]
     },
     "metadata": {
      "needs_background": "light"
     },
     "output_type": "display_data"
    }
   ],
   "source": [
    "Data = loadPharaglow(strains, directories, index=0)\n",
    "# change plot variable and method\n",
    "graphingNolawn(Data, strains[0], hist_name, save = 'Yes')"
   ]
  },
  {
   "cell_type": "markdown",
   "metadata": {},
   "source": [
    "#### Smell patch left to dry for 5 minutes"
   ]
  },
  {
   "cell_type": "code",
   "execution_count": 33,
   "metadata": {},
   "outputs": [],
   "source": [
    "# readPharaglow(strains, directories, index=1)"
   ]
  },
  {
   "cell_type": "code",
   "execution_count": 34,
   "metadata": {},
   "outputs": [
    {
     "name": "stdout",
     "output_type": "stream",
     "text": [
      "NZ0198_results_42.json\n",
      "NZ0198_results_19.json\n",
      "NZ0198_results_38.json\n",
      "NZ0198_results_21.json\n",
      "NZ0198_results_12.json\n",
      "NZ0198_results_4.json\n",
      "NZ0198_results_29.json\n",
      "NZ0198_results_15.json\n",
      "NZ0198_results_5.json\n",
      "NZ0198_results_16.json\n",
      "NZ0198_results_0.json\n",
      "NZ0198_results_8.json\n",
      "NZ0198_results_40.json\n",
      "NZ0198_results_1.json\n",
      "NZ0198_results_37.json\n",
      "NZ0198_results_35.json\n",
      "NZ0198_results_41.json\n",
      "NZ0198_results_3.json\n",
      "NZ0198_results_32.json\n",
      "NZ0198_results_10.json\n",
      "NZ0198_results_39.json\n",
      "Plotting 5min_smell...\n",
      "Ta da!\n",
      "/home/nzjacic/Desktop/Diagnostics/Figures/Analysis_2/Nolawn_5min_smell_diagnostics_average.pdf\n"
     ]
    },
    {
     "data": {
      "image/png": "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\n",
      "text/plain": [
       "<Figure size 1152x576 with 2 Axes>"
      ]
     },
     "metadata": {
      "needs_background": "light"
     },
     "output_type": "display_data"
    }
   ],
   "source": [
    "Data = loadPharaglow(strains, directories, index=1)\n",
    "# change plot variable and method\n",
    "graphingNolawn(Data, strains[1], hist_name, save = 'Yes')"
   ]
  },
  {
   "cell_type": "markdown",
   "metadata": {},
   "source": [
    "#### Smell patch left to dry for 30 minutes"
   ]
  },
  {
   "cell_type": "code",
   "execution_count": 35,
   "metadata": {},
   "outputs": [],
   "source": [
    "# readPharaglow(strains, directories, index=2)"
   ]
  },
  {
   "cell_type": "code",
   "execution_count": 36,
   "metadata": {},
   "outputs": [
    {
     "name": "stdout",
     "output_type": "stream",
     "text": [
      "NZ0196_results_47.json\n",
      "NZ0196_results_4.json\n",
      "NZ0196_results_41.json\n",
      "NZ0196_results_27.json\n",
      "NZ0196_results_22.json\n",
      "NZ0196_results_50.json\n",
      "NZ0196_results_45.json\n",
      "NZ0196_results_20.json\n",
      "NZ0196_results_24.json\n",
      "NZ0196_results_42.json\n",
      "NZ0196_results_26.json\n",
      "NZ0196_results_44.json\n",
      "NZ0196_results_48.json\n",
      "NZ0196_results_10.json\n",
      "NZ0196_results_23.json\n",
      "NZ0196_results_5.json\n",
      "NZ0196_results_39.json\n",
      "NZ0196_results_46.json\n",
      "NZ0196_results_8.json\n",
      "NZ0196_results_30.json\n",
      "Plotting 30min_smell...\n",
      "Ta da!\n",
      "/home/nzjacic/Desktop/Diagnostics/Figures/Analysis_2/Nolawn_30min_smell_diagnostics_average.pdf\n"
     ]
    },
    {
     "data": {
      "image/png": "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\n",
      "text/plain": [
       "<Figure size 1152x576 with 2 Axes>"
      ]
     },
     "metadata": {
      "needs_background": "light"
     },
     "output_type": "display_data"
    }
   ],
   "source": [
    "Data = loadPharaglow(strains, directories, index=2)\n",
    "# change plot variable and method\n",
    "graphingNolawn(Data, strains[2], hist_name, save = 'Yes')"
   ]
  },
  {
   "cell_type": "code",
   "execution_count": 37,
   "metadata": {},
   "outputs":
