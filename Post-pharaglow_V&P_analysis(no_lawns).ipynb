{
 "cells": [
  {
   "cell_type": "markdown",
   "metadata": {},
   "source": [
    "# Velocity and pumping diagnostics after PharaGlow analysis (for videos without lawns)"
   ]
  },
  {
   "cell_type": "markdown",
   "metadata": {},
   "source": [
    "## Changing names (user input required)"
   ]
  },
  {
   "cell_type": "markdown",
   "metadata": {},
   "source": [
    "#### Strain directories"
   ]
  },
  {
   "cell_type": "code",
   "execution_count": 1,
   "metadata": {},
   "outputs": [],
   "source": [
    "# ADD DIRECTORY OF STRAIN MASTER FOLDER(S)\n",
    "nl_nosmell = '/media/soma/Nicolina/GRU101/No_lawn/No_smell/'\n",
    "nl_5min = '/media/soma/Nicolina/GRU101/No_lawn/Smell_5min/'\n",
    "nl_30min = '/media/soma/Nicolina/GRU101/No_lawn/Smell_30min/'\n",
    "\n",
    "# FINAL FIGURE NAME AND DIRECTORY (figure name MUST have .pdf at the end) - if not changed then the previous figure\n",
    "# WILL be erased so be careful!\n",
    "hist_name = \"/home/nzjacic/Desktop/Diagnostics/Figures/Analysis_2/Nolawn_{}_diagnostics_average.pdf\""
   ]
  },
  {
   "cell_type": "markdown",
   "metadata": {},
   "source": [
    "#### Dictionary linking strain names to their folders and graph colors"
   ]
  },
  {
   "cell_type": "code",
   "execution_count": 28,
   "metadata": {},
   "outputs": [],
   "source": [
    "# ADD STRAIN NAMES\n",
    "strains = ['no_smell', '5min_smell', '30min_smell']\n",
    "\n",
    "# ADD DIRECTORY VARIABLE\n",
    "directories = [nl_nosmell, nl_5min, nl_30min]\n",
    "\n",
    "# ADD COLORS\n",
    "# if a syntax error comes up it's probably because you forgot to add a comma after the previous strain name\n",
    "colors = {\n",
    "        'no_smell': 'xkcd:lavender',\n",
    "        '5min_smell': 'xkcd:salmon',\n",
    "        '30min_smell': 'xkcd:teal'\n",
    "    }"
   ]
  },
  {
   "cell_type": "markdown",
   "metadata": {},
   "source": [
    "#### Variables"
   ]
  },
  {
   "cell_type": "code",
   "execution_count": 4,
   "metadata": {},
   "outputs": [],
   "source": [
    "# FPS?\n",
    "fps = 30\n",
    "\n",
    "# HOW MANY MICRONS PER PIXEL?\n",
    "umPerPx = 2.34"
   ]
  },
  {
   "cell_type": "markdown",
   "metadata": {},
   "source": [
    "## Extracting velocity and pumping information"
   ]
  },
  {
   "cell_type": "markdown",
   "metadata": {},
   "source": [
    "### Importing packages"
   ]
  },
  {
   "cell_type": "code",
   "execution_count": 5,
   "metadata": {},
   "outputs": [],
   "source": [
    "%matplotlib inline\n",
    "import numpy as np\n",
    "import pandas as pd\n",
    "import os\n",
    "import pickle\n",
    "# image io and analysis\n",
    "import json\n",
    "import pims\n",
    "import trackpy as tp\n",
    "\n",
    "# plotting\n",
    "import matplotlib  as mpl \n",
    "import matplotlib.pyplot as plt \n",
    "\n",
    "#our packages\n",
    "from pharaglow import extract, util\n",
    "from pharaglow.util import smooth"
   ]
  },
  {
   "cell_type": "markdown",
   "metadata": {},
   "source": [
    "### Defining functions and dictionaries"
   ]
  },
  {
   "cell_type": "markdown",
   "metadata": {},
   "source": [
    "#### Defining functions to extract velocity, pumping and kymo"
   ]
  },
  {
   "cell_type": "code",
   "execution_count": 6,
   "metadata": {},
   "outputs": [],
   "source": [
    "def getVelocity(traj, umperPx, fps):\n",
    "    return np.sqrt((np.diff(traj['x'])**2+np.diff(traj['y'])**2))/np.diff(traj['frame'])*umperPx*fps\n",
    "\n",
    "def getPumps(pumps, ws = 30, prs = np.linspace(0.5,0.95,50) ):\n",
    "    return extract.bestMatchPeaks(pumps, ws, prs)\n",
    "\n",
    "def getKymo(df, key):\n",
    "    kymo = np.sum([np.array(list(filter(None.__ne__,row))) for row in df[key].values], axis=2)\n",
    "    kymo = np.array([np.interp(np.linspace(0, len(row), 100), np.arange(len(row)), np.array(row)) \\\n",
    "                      for row in kymo])\n",
    "    kymo = extract.alignKymos(kymo).T\n",
    "    return kymo"
   ]
  },
  {
   "cell_type": "markdown",
   "metadata": {},
   "source": [
    "#### Defining how Python reads in Pharaglow and lawn data"
   ]
  },
  {
   "cell_type": "code",
   "execution_count": 7,
   "metadata": {},
   "outputs": [],
   "source": [
    "def getVelocity(traj, umperPx, fps):\n",
    "    return np.sqrt((np.diff(traj['x'])**2+np.diff(traj['y'])**2))/np.diff(traj['frame'])*umperPx*fps\n",
    "\n",
    "def getPumps(pumps, wsDetrend = 300 , wsOutlier = 300, wsDetrendLocal = 30, prs = np.linspace(0.5,0.95,50) ):\n",
    "    return extract.bestMatchPeaks(pumps, wsDetrend = 300 , wsOutlier = 300, wsDetrendLocal = 30, prs = prs)\n",
    "\n",
    "def getKymo(df, key):\n",
    "    kymo = np.sum([np.array(list(filter(None.__ne__,row))) for row in df[key].values], axis=2)\n",
    "    kymo = np.array([np.interp(np.linspace(0, len(row), 100), np.arange(len(row)), np.array(row)) \\\n",
    "                      for row in kymo])\n",
    "    kymo = extract.alignKymos(kymo).T\n",
    "    return kymo\n",
    "\n",
    "def readData(dataFolder, umPerPx, fps, j = 0, nmax = None):\n",
    "    df = {}\n",
    "    path = os.path.dirname(dataFolder)\n",
    "    for fn in os.listdir(path):\n",
    "        if nmax != None and len(df.keys())>nmax-1:\n",
    "            break\n",
    "        file = os.path.join(path,fn)\n",
    "        if os.path.isfile(file) and 'results_' in fn and fn.endswith('.json'):\n",
    "            print('Reading', file)\n",
    "            particle_index = int(fn.split('.')[0].split('_')[-1])\n",
    "            traj =  pd.read_json(file, orient='split', numpy = True)\n",
    "            # velocity\n",
    "            t = traj['frame']/fps\n",
    "            v = getVelocity(traj, umPerPx, fps)\n",
    "            # pumping related data\n",
    "            kymo = getKymo(traj, 'Straightened')\n",
    "            rawPump = [-np.max(np.std(sIm, axis =1), axis =0) for sIm in traj['Straightened']]\n",
    "            traj['pump'] = rawPump\n",
    "            prs =  np.linspace(0.15,1.00,50)\n",
    "            p, pump, pks, roc, metric  = getPumps(traj['pump'].values, prs = prs)\n",
    "            #plotPumpAnalysis(pump, pks, roc, prs, time = traj['frame'], metric=metric)\n",
    "            pinterp = np.interp(traj['frame'], p[:-1]+traj['frame'].iloc[0], fps/np.diff(p))\n",
    "            # get a binary trace where pumps are 1 and non-pumps are 0\n",
    "            tmp = np.zeros(len(t))\n",
    "            tmp[p] = 1\n",
    "            \n",
    "            df[j] = {'time': t.values,\n",
    "                     'x': traj['x'].values,\n",
    "                     'y': traj['y'].values,\n",
    "                             'velocity':v,\n",
    "                             'peaks': p.values,\n",
    "                             'pumpTrace':pump,\n",
    "                             'binaryPumps': tmp,\n",
    "                             'pumpInterp': pinterp,\n",
    "                             'pid':particle_index,\n",
    "                             'filename': fn,\n",
    "                             'kymo': kymo,\n",
    "                             'fps': fps,\n",
    "                             'scale':umPerPx\n",
    "                            }\n",
    "            j +=1\n",
    "    return df"
   ]
  },
  {
   "cell_type": "markdown",
   "metadata": {},
   "source": [
    "#### Defining histogram plotting function"
   ]
  },
  {
   "cell_type": "code",
   "execution_count": 51,
   "metadata": {},
   "outputs": [],
   "source": [
    "def graphingNolawn(Data, condition, plotpath, save = 'Yes'):\n",
    "    # setting up Grid plot\n",
    "    f1 = plt.figure(figsize = (16,8))\n",
    "    grid = mpl.gridspec.GridSpec(ncols=2, nrows =1)\n",
    "    ax1 = f1.add_subplot(grid[:,0]) \n",
    "    ax2 = f1.add_subplot(grid[:,1])\n",
    "    # extracting histogram information\n",
    "    pr, v = [], []\n",
    "    for idx in Data.keys():\n",
    "        print(Data[idx]['filename'])\n",
    "        tmp = Data[idx]['pumpInterp']\n",
    "        pr.append(tmp)\n",
    "        v.append(Data[idx]['velocity'])\n",
    "    pr = np.concatenate(pr, axis = None)\n",
    "#     print(len(pr))\n",
    "    v = np.concatenate(v, axis = None)\n",
    "#     print(len(v))\n",
    "    binspr = np.linspace(0,6,15)\n",
    "    binsv = np.linspace(0, 400, 50)\n",
    "    # pumping rate\n",
    "    #histpr = np.histogram(pr, bins, color = colors[condition], density=True)\n",
    "    ax1.hist(pr, binspr, color = colors[condition], density = True)\n",
    "    #ax1.hist(histpr, bins)\n",
    "    # velocity\n",
    "    #histv = np.histogram(v, bins, color = colors[condition], density=True)\n",
    "    ax2.hist(v, binsv, color = colors[condition], density = True)\n",
    "    #ax2.hist(histv, bins)\n",
    "    print ('Plotting', condition+'...')\n",
    "    ax1.set_xlabel('Pumping rate (Hz)')\n",
    "    ax1.set_ylabel('PDF')\n",
    "    ax2.set_ylabel('PDF')\n",
    "    ax2.set_xlabel('Velocity (um/s)')\n",
    "    # saving data variable\n",
    "    plotpath = plotpath.format(condition)\n",
    "    print('Ta da!')\n",
    "    # OPTIONAL - save figure\n",
    "    if save == 'Yes':\n",
    "        print(plotpath)\n",
    "        plt.savefig(plotpath)\n",
    "    else:\n",
    "        print('Not saved')"
   ]
  },
  {
   "cell_type": "markdown",
   "metadata": {},
   "source": [
    "#### Defining saving and loading process"
   ]
  },
  {
   "cell_type": "code",
   "execution_count": 33,
   "metadata": {},
   "outputs": [],
   "source": [
    "def readPharaglow(strains, directories, index, save=True):\n",
    "    Data = readData(directories[index], umPerPx, fps, nmax = None)\n",
    "    if save:\n",
    "        saveData = open(f'/home/nzjacic/Desktop/Diagnostics/Saved_data/Analysis_2/{strains[index]}', 'wb')\n",
    "        pickle.dump(Data, saveData)\n",
    "        saveData.close()"
   ]
  },
  {
   "cell_type": "code",
   "execution_count": 34,
   "metadata": {},
   "outputs": [],
   "source": [
    "def loadPharaglow(strains, directories, index):\n",
    "    saveData = open(f'/home/nzjacic/Desktop/Diagnostics/Saved_data/Analysis_2/{strains[index]}', 'rb')\n",
    "    Data = pickle.load(saveData)\n",
    "    saveData.close()\n",
    "    return Data"
   ]
  },
  {
   "cell_type": "markdown",
   "metadata": {},
   "source": [
    "### Reading and Graphing (add as strains increase)"
   ]
  },
  {
   "cell_type": "markdown",
   "metadata": {},
   "source": [
    "#### No smell patch"
   ]
  },
  {
   "cell_type": "code",
   "execution_count": 35,
   "metadata": {},
   "outputs": [],
   "source": [
    "# readPharaglow(strains, directories, index=0)"
   ]
  },
  {
   "cell_type": "code",
   "execution_count": 52,
   "metadata": {},
   "outputs": [
    {
     "name": "stdout",
     "output_type": "stream",
     "text": [
      "NZ0197_results_6.json\n",
      "NZ0189_results_2.json\n",
      "NZ0197_results_11.json\n",
      "NZ0189_results_40.json\n",
      "NZ0189_results_39.json\n",
      "NZ0197_results_3.json\n",
      "NZ0197_results_4.json\n",
      "NZ0189_results_23.json\n",
      "NZ0189_results_22.json\n",
      "NZ0197_results_5.json\n",
      "NZ0197_results_10.json\n",
      "NZ0189_results_44.json\n",
      "NZ0189_results_618.json\n",
      "NZ0189_results_56.json\n",
      "NZ0189_results_24.json\n",
      "NZ0197_results_2.json\n",
      "NZ0189_results_0.json\n",
      "NZ0189_results_50.json\n",
      "NZ0189_results_35.json\n",
      "NZ0197_results_0.json\n",
      "NZ0189_results_1.json\n",
      "NZ0189_results_21.json\n",
      "NZ0189_results_12.json\n",
      "NZ0189_results_7.json\n",
      "Plotting no_smell...\n",
      "Ta da!\n",
      "/home/nzjacic/Desktop/Diagnostics/Figures/Analysis_2/Nolawn_no_smell_diagnostics_average.pdf\n"
     ]
    },
    {
     "data": {
      "image/png": "[encoded data removed]",
      "text/plain": [
       "<Figure size 1152x576 with 2 Axes>"
      ]
     },
     "metadata": {
      "needs_background": "light"
     },
     "output_type": "display_data"
    }
   ],
   "source": [
    "Data = loadPharaglow(strains, directories, index=0)\n",
    "# change plot variable and method\n",
    "graphingNolawn(Data, strains[0], hist_name, save = 'Yes')"
   ]
  },
  {
   "cell_type": "markdown",
   "metadata": {},
   "source": [
    "#### Smell patch left to dry for 5 minutes"
   ]
  },
  {
   "cell_type": "code",
   "execution_count": 53,
   "metadata": {},
   "outputs": [],
   "source": [
    "# readPharaglow(strains, directories, index=1)"
   ]
  },
  {
   "cell_type": "code",
   "execution_count": 54,
   "metadata": {},
   "outputs": [
    {
     "name": "stdout",
     "output_type": "stream",
     "text": [
      "NZ0198_results_42.json\n",
      "NZ0198_results_19.json\n",
      "NZ0198_results_38.json\n",
      "NZ0198_results_21.json\n",
      "NZ0198_results_12.json\n",
      "NZ0198_results_4.json\n",
      "NZ0198_results_29.json\n",
      "NZ0198_results_15.json\n",
      "NZ0198_results_5.json\n",
      "NZ0198_results_16.json\n",
      "NZ0198_results_0.json\n",
      "NZ0198_results_8.json\n",
      "NZ0198_results_40.json\n",
      "NZ0198_results_1.json\n",
      "NZ0198_results_37.json\n",
      "NZ0198_results_35.json\n",
      "NZ0198_results_41.json\n",
      "NZ0198_results_3.json\n",
      "NZ0198_results_32.json\n",
      "NZ0198_results_10.json\n",
      "NZ0198_results_39.json\n",
      "Plotting 5min_smell...\n",
      "Ta da!\n",
      "/home/nzjacic/Desktop/Diagnostics/Figures/Analysis_2/Nolawn_5min_smell_diagnostics_average.pdf\n"
     ]
    },
    {
     "data": {
      "image/png": "[encoded data removed]",
      "text/plain": [
       "<Figure size 1152x576 with 2 Axes>"
      ]
     },
     "metadata": {
      "needs_background": "light"
     },
     "output_type": "display_data"
    }
   ],
   "source": [
    "Data = loadPharaglow(strains, directories, index=1)\n",
    "# change plot variable and method\n",
    "graphingNolawn(Data, strains[1], hist_name, save = 'Yes')"
   ]
  },
  {
   "cell_type": "markdown",
   "metadata": {},
   "source": [
    "#### Smell patch left to dry for 30 minutes"
   ]
  },
  {
   "cell_type": "code",
   "execution_count": 55,
   "metadata": {},
   "outputs": [],
   "source": [
    "# readPharaglow(strains, directories, index=2)"
   ]
  },
  {
   "cell_type": "code",
   "execution_count": 56,
   "metadata": {},
   "outputs": [
    {
     "name": "stdout",
     "output_type": "stream",
     "text": [
      "NZ0196_results_47.json\n",
      "NZ0196_results_4.json\n",
      "NZ0196_results_41.json\n",
      "NZ0196_results_27.json\n",
      "NZ0196_results_22.json\n",
      "NZ0196_results_50.json\n",
      "NZ0196_results_45.json\n",
      "NZ0196_results_20.json\n",
      "NZ0196_results_24.json\n",
      "NZ0196_results_42.json\n",
      "NZ0196_results_26.json\n",
      "NZ0196_results_44.json\n",
      "NZ0196_results_48.json\n",
      "NZ0196_results_10.json\n",
      "NZ0196_results_23.json\n",
      "NZ0196_results_5.json\n",
      "NZ0196_results_39.json\n",
      "NZ0196_results_46.json\n",
      "NZ0196_results_8.json\n",
      "NZ0196_results_30.json\n",
      "Plotting 30min_smell...\n",
      "Ta da!\n",
      "/home/nzjacic/Desktop/Diagnostics/Figures/Analysis_2/Nolawn_30min_smell_diagnostics_average.pdf\n"
     ]
    },
    {
     "data": {
      "image/png": "[encoded data removed]",
      "text/plain": [
       "<Figure size 1152x576 with 2 Axes>"
      ]
     },
     "metadata": {
      "needs_background": "light"
     },
     "output_type": "display_data"
    }
   ],
   "source": [
    "Data = loadPharaglow(strains, directories, index=2)\n",
    "# change plot variable and method\n",
    "graphingNolawn(Data, strains[2], hist_name, save = 'Yes')"
   ]
  },
  {
   "cell_type": "code",
   "execution_count": null,
   "metadata": {},
   "outputs": [],
   "source": []
  }
 ],
 "metadata": {
  "kernelspec": {
   "display_name": "Python 3",
   "language": "python",
   "name": "python3"
  },
  "language_info": {
   "codemirror_mode": {
    "name": "ipython",
    "version": 3
   },
   "file_extension": ".py",
   "mimetype": "text/x-python",
   "name": "python",
   "nbconvert_exporter": "python",
   "pygments_lexer": "ipython3",
   "version": "3.7.7"
  }
 },
 "nbformat": 4,
 "nbformat_minor": 4
}
